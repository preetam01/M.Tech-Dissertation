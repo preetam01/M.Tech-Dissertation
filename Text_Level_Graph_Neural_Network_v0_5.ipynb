{
  "nbformat": 4,
  "nbformat_minor": 0,
  "metadata": {
    "colab": {
      "name": "Text Level Graph Neural Network v0.5.ipynb",
      "provenance": [],
      "collapsed_sections": [],
      "include_colab_link": true
    },
    "kernelspec": {
      "display_name": "Python 3",
      "name": "python3"
    }
  },
  "cells": [
    {
      "cell_type": "markdown",
      "metadata": {
        "id": "view-in-github",
        "colab_type": "text"
      },
      "source": [
        "<a href=\"https://colab.research.google.com/github/preetam01/M.Tech-Dissertation/blob/main/Text_Level_Graph_Neural_Network_v0_5.ipynb\" target=\"_parent\"><img src=\"https://colab.research.google.com/assets/colab-badge.svg\" alt=\"Open In Colab\"/></a>"
      ]
    },
    {
      "cell_type": "markdown",
      "metadata": {
        "id": "4h8vgHcFx-at"
      },
      "source": [
        "# **# Dataset: Twitter Sentiment Analysis**(Using Text Level GNN)"
      ]
    },
    {
      "cell_type": "markdown",
      "metadata": {
        "id": "wNSeFoTtfLtN"
      },
      "source": [
        "# **# 1. Import Libraries/Dataset**\n"
      ]
    },
    {
      "cell_type": "code",
      "metadata": {
        "id": "HFU742MMoxKS"
      },
      "source": [
        "# DataFrame\n",
        "import pandas as pd\n",
        "\n",
        "#Keras\n",
        "import tensorflow as tf\n",
        "from tensorflow import keras\n",
        "from tensorflow.keras import layers\n",
        "import tensorflow_hub as hub\n",
        "from tensorflow.keras.optimizers import Adam\n",
        "from keras.layers import Activation\n",
        "\n",
        "# Scikit-learn\n",
        "from sklearn.model_selection import train_test_split\n",
        "\n",
        "# Matplotlib for Graph Ploting\n",
        "import matplotlib.pyplot as plt\n",
        "\n",
        "\n",
        "# Utility\n",
        "import re\n",
        "import numpy as np\n",
        "import matplotlib.pyplot as plt # Import matplotlib for data visualisation\n",
        "from sklearn.metrics import confusion_matrix\n",
        "\n",
        "#For glove\n",
        "import torch\n",
        "import torchtext\n",
        "\n",
        "#For calcualtion of cosine semilarity\n",
        "from scipy import spatial\n",
        "\n",
        "#For Graph building\n",
        "import networkx as nx\n",
        "\n",
        "#Graph building\n",
        "import networkx as nx\n",
        "\n",
        "#Removing Stopwords\n",
        "from nltk.corpus import stopwords"
      ],
      "execution_count": null,
      "outputs": []
    },
    {
      "cell_type": "code",
      "metadata": {
        "id": "6-6Zgneo51Rt"
      },
      "source": [
        "# DATASET\n",
        "DATASET_COLUMNS = [\"sentiment\", \"ids\", \"date\", \"flag\", \"user\", \"text\"]\n",
        "DATASET_ENCODING = \"ISO-8859-1\"\n",
        "\n",
        "\n",
        "# TEXT CLENAING\n",
        "TEXT_CLEANING_RE = \"@\\S+|https?:\\S+|http?:\\S|[^A-Za-z0-9]+\"\n"
      ],
      "execution_count": null,
      "outputs": []
    },
    {
      "cell_type": "markdown",
      "metadata": {
        "id": "aDboIN7xxwzI"
      },
      "source": [
        "**#. Import Data Set for Sentiment Analysis using Googe Drive (Below is the backup option in case kaggle API having issues to load data."
      ]
    },
    {
      "cell_type": "code",
      "metadata": {
        "colab": {
          "base_uri": "https://localhost:8080/"
        },
        "id": "81RYU-OZ67Mm",
        "outputId": "778b4535-aef3-466f-bdfa-0823b8697b09"
      },
      "source": [
        "# Code to read csv file into Colaboratory:\n",
        "from google.colab import drive\n",
        "drive.mount('/content/drive')"
      ],
      "execution_count": null,
      "outputs": [
        {
          "output_type": "stream",
          "text": [
            "Mounted at /content/drive\n"
          ],
          "name": "stdout"
        }
      ]
    },
    {
      "cell_type": "code",
      "metadata": {
        "id": "4crASGZjyw0H"
      },
      "source": [
        "df = pd.read_csv(r\"/content/drive/My Drive/Dissertation/Kaggle Sentiment140.csv\",encoding =DATASET_ENCODING , names=DATASET_COLUMNS)"
      ],
      "execution_count": null,
      "outputs": []
    },
    {
      "cell_type": "markdown",
      "metadata": {
        "id": "FuXa-LT_yjjJ"
      },
      "source": [
        "**#. Import Data Set for Sentiment Analysis directly from Kaggle**"
      ]
    },
    {
      "cell_type": "code",
      "metadata": {
        "id": "OBkA55xzfKt0"
      },
      "source": [
        "#!mkdir -p ~/.kaggle"
      ],
      "execution_count": null,
      "outputs": []
    },
    {
      "cell_type": "code",
      "metadata": {
        "id": "H4FPdBVOhxRy"
      },
      "source": [
        "#!cp kaggle.json ~/.kaggle/"
      ],
      "execution_count": null,
      "outputs": []
    },
    {
      "cell_type": "code",
      "metadata": {
        "id": "uoo2URT9h2iq"
      },
      "source": [
        "#!ls ~/.kaggle"
      ],
      "execution_count": null,
      "outputs": []
    },
    {
      "cell_type": "code",
      "metadata": {
        "id": "9gAUL51zfKFw"
      },
      "source": [
        "#!cp kaggle.json ~/.kaggle/"
      ],
      "execution_count": null,
      "outputs": []
    },
    {
      "cell_type": "code",
      "metadata": {
        "id": "_AxVrUbmiJRr"
      },
      "source": [
        "#!chmod 600 /root/.kaggle/kaggle.json"
      ],
      "execution_count": null,
      "outputs": []
    },
    {
      "cell_type": "code",
      "metadata": {
        "id": "lOT4gxeoiRIL"
      },
      "source": [
        "#!echo '{\"username\":\"preetamkumar\",\"key\":\"02e539250914c9fea2c057a45b87339b\"}' > /root/.kaggle/kaggle.json\n",
        "#!chmod 600 /root/.kaggle/kaggle.json"
      ],
      "execution_count": null,
      "outputs": []
    },
    {
      "cell_type": "code",
      "metadata": {
        "id": "bxtVThkqin4t"
      },
      "source": [
        "#!kaggle datasets download -d kazanova/sentiment140 -p /content"
      ],
      "execution_count": null,
      "outputs": []
    },
    {
      "cell_type": "code",
      "metadata": {
        "id": "cLlXKrDoiiIz"
      },
      "source": [
        "#!unzip \\*.zip"
      ],
      "execution_count": null,
      "outputs": []
    },
    {
      "cell_type": "code",
      "metadata": {
        "id": "PmrWH-Myit1a"
      },
      "source": [
        "#dataset = pd.read_csv('training.1600000.processed.noemoticon.csv' , encoding =DATASET_ENCODING , names=DATASET_COLUMNS)"
      ],
      "execution_count": null,
      "outputs": []
    },
    {
      "cell_type": "code",
      "metadata": {
        "colab": {
          "base_uri": "https://localhost:8080/"
        },
        "id": "TQGqm4-u64eo",
        "outputId": "533ec8c6-6b2e-4689-dd70-989b46a1156e"
      },
      "source": [
        "print(len(df))"
      ],
      "execution_count": null,
      "outputs": [
        {
          "output_type": "stream",
          "text": [
            "1600000\n"
          ],
          "name": "stdout"
        }
      ]
    },
    {
      "cell_type": "code",
      "metadata": {
        "colab": {
          "base_uri": "https://localhost:8080/"
        },
        "id": "RFAlBU--zR0K",
        "outputId": "8e3913b0-a21e-4f82-eabc-cfc14373f3d3"
      },
      "source": [
        "#Selecting a sample for the testing purpose\n",
        "df = df.sample(100000)\n",
        "df = df.reset_index(drop=True)\n",
        "dataset = df\n",
        "print(len(dataset))"
      ],
      "execution_count": null,
      "outputs": [
        {
          "output_type": "stream",
          "text": [
            "100000\n"
          ],
          "name": "stdout"
        }
      ]
    },
    {
      "cell_type": "code",
      "metadata": {
        "colab": {
          "base_uri": "https://localhost:8080/"
        },
        "id": "0jq3XdyfGc31",
        "outputId": "f7b65871-8387-4f15-8dbd-a1e820d55e84"
      },
      "source": [
        "dataset.columns"
      ],
      "execution_count": null,
      "outputs": [
        {
          "output_type": "execute_result",
          "data": {
            "text/plain": [
              "Index(['sentiment', 'ids', 'date', 'flag', 'user', 'text'], dtype='object')"
            ]
          },
          "metadata": {},
          "execution_count": 16
        }
      ]
    },
    {
      "cell_type": "code",
      "metadata": {
        "colab": {
          "base_uri": "https://localhost:8080/",
          "height": 300
        },
        "id": "tmIOn3m8FTGM",
        "outputId": "228f01e4-b7fd-43f1-e418-7fe0926b5818"
      },
      "source": [
        "dataset.describe()"
      ],
      "execution_count": null,
      "outputs": [
        {
          "output_type": "execute_result",
          "data": {
            "text/html": [
              "<div>\n",
              "<style scoped>\n",
              "    .dataframe tbody tr th:only-of-type {\n",
              "        vertical-align: middle;\n",
              "    }\n",
              "\n",
              "    .dataframe tbody tr th {\n",
              "        vertical-align: top;\n",
              "    }\n",
              "\n",
              "    .dataframe thead th {\n",
              "        text-align: right;\n",
              "    }\n",
              "</style>\n",
              "<table border=\"1\" class=\"dataframe\">\n",
              "  <thead>\n",
              "    <tr style=\"text-align: right;\">\n",
              "      <th></th>\n",
              "      <th>sentiment</th>\n",
              "      <th>ids</th>\n",
              "    </tr>\n",
              "  </thead>\n",
              "  <tbody>\n",
              "    <tr>\n",
              "      <th>count</th>\n",
              "      <td>100000.000000</td>\n",
              "      <td>1.000000e+05</td>\n",
              "    </tr>\n",
              "    <tr>\n",
              "      <th>mean</th>\n",
              "      <td>2.009600</td>\n",
              "      <td>1.998239e+09</td>\n",
              "    </tr>\n",
              "    <tr>\n",
              "      <th>std</th>\n",
              "      <td>1.999987</td>\n",
              "      <td>1.940285e+08</td>\n",
              "    </tr>\n",
              "    <tr>\n",
              "      <th>min</th>\n",
              "      <td>0.000000</td>\n",
              "      <td>1.467819e+09</td>\n",
              "    </tr>\n",
              "    <tr>\n",
              "      <th>25%</th>\n",
              "      <td>0.000000</td>\n",
              "      <td>1.956815e+09</td>\n",
              "    </tr>\n",
              "    <tr>\n",
              "      <th>50%</th>\n",
              "      <td>4.000000</td>\n",
              "      <td>2.001992e+09</td>\n",
              "    </tr>\n",
              "    <tr>\n",
              "      <th>75%</th>\n",
              "      <td>4.000000</td>\n",
              "      <td>2.176942e+09</td>\n",
              "    </tr>\n",
              "    <tr>\n",
              "      <th>max</th>\n",
              "      <td>4.000000</td>\n",
              "      <td>2.329206e+09</td>\n",
              "    </tr>\n",
              "  </tbody>\n",
              "</table>\n",
              "</div>"
            ],
            "text/plain": [
              "           sentiment           ids\n",
              "count  100000.000000  1.000000e+05\n",
              "mean        2.009600  1.998239e+09\n",
              "std         1.999987  1.940285e+08\n",
              "min         0.000000  1.467819e+09\n",
              "25%         0.000000  1.956815e+09\n",
              "50%         4.000000  2.001992e+09\n",
              "75%         4.000000  2.176942e+09\n",
              "max         4.000000  2.329206e+09"
            ]
          },
          "metadata": {},
          "execution_count": 17
        }
      ]
    },
    {
      "cell_type": "code",
      "metadata": {
        "colab": {
          "base_uri": "https://localhost:8080/",
          "height": 206
        },
        "id": "yQ4L1oYi64h6",
        "outputId": "59815f94-0582-4ae8-95a5-28b9d0629139"
      },
      "source": [
        "dataset.head(5)"
      ],
      "execution_count": null,
      "outputs": [
        {
          "output_type": "execute_result",
          "data": {
            "text/html": [
              "<div>\n",
              "<style scoped>\n",
              "    .dataframe tbody tr th:only-of-type {\n",
              "        vertical-align: middle;\n",
              "    }\n",
              "\n",
              "    .dataframe tbody tr th {\n",
              "        vertical-align: top;\n",
              "    }\n",
              "\n",
              "    .dataframe thead th {\n",
              "        text-align: right;\n",
              "    }\n",
              "</style>\n",
              "<table border=\"1\" class=\"dataframe\">\n",
              "  <thead>\n",
              "    <tr style=\"text-align: right;\">\n",
              "      <th></th>\n",
              "      <th>sentiment</th>\n",
              "      <th>ids</th>\n",
              "      <th>date</th>\n",
              "      <th>flag</th>\n",
              "      <th>user</th>\n",
              "      <th>text</th>\n",
              "    </tr>\n",
              "  </thead>\n",
              "  <tbody>\n",
              "    <tr>\n",
              "      <th>0</th>\n",
              "      <td>0</td>\n",
              "      <td>2232196955</td>\n",
              "      <td>Thu Jun 18 19:35:04 PDT 2009</td>\n",
              "      <td>NO_QUERY</td>\n",
              "      <td>kazere</td>\n",
              "      <td>is busy cleaning windows and getting ready to ...</td>\n",
              "    </tr>\n",
              "    <tr>\n",
              "      <th>1</th>\n",
              "      <td>0</td>\n",
              "      <td>1754966796</td>\n",
              "      <td>Sun May 10 07:53:54 PDT 2009</td>\n",
              "      <td>NO_QUERY</td>\n",
              "      <td>natmarshall</td>\n",
              "      <td>Meeewsic. I just wanna get back to the studio ...</td>\n",
              "    </tr>\n",
              "    <tr>\n",
              "      <th>2</th>\n",
              "      <td>4</td>\n",
              "      <td>1969209153</td>\n",
              "      <td>Fri May 29 23:20:08 PDT 2009</td>\n",
              "      <td>NO_QUERY</td>\n",
              "      <td>GericaQuinn</td>\n",
              "      <td>@RASOfficial well yur neither, so i won't expe...</td>\n",
              "    </tr>\n",
              "    <tr>\n",
              "      <th>3</th>\n",
              "      <td>0</td>\n",
              "      <td>2263974715</td>\n",
              "      <td>Sun Jun 21 02:22:55 PDT 2009</td>\n",
              "      <td>NO_QUERY</td>\n",
              "      <td>monica_mills</td>\n",
              "      <td>had a fantabulous weekend!  now onto that payc...</td>\n",
              "    </tr>\n",
              "    <tr>\n",
              "      <th>4</th>\n",
              "      <td>4</td>\n",
              "      <td>2061846505</td>\n",
              "      <td>Sat Jun 06 21:44:59 PDT 2009</td>\n",
              "      <td>NO_QUERY</td>\n",
              "      <td>on3_g</td>\n",
              "      <td>@juaneladio u need uncomment the alias in the ...</td>\n",
              "    </tr>\n",
              "  </tbody>\n",
              "</table>\n",
              "</div>"
            ],
            "text/plain": [
              "   sentiment  ...                                               text\n",
              "0          0  ...  is busy cleaning windows and getting ready to ...\n",
              "1          0  ...  Meeewsic. I just wanna get back to the studio ...\n",
              "2          4  ...  @RASOfficial well yur neither, so i won't expe...\n",
              "3          0  ...  had a fantabulous weekend!  now onto that payc...\n",
              "4          4  ...  @juaneladio u need uncomment the alias in the ...\n",
              "\n",
              "[5 rows x 6 columns]"
            ]
          },
          "metadata": {},
          "execution_count": 18
        }
      ]
    },
    {
      "cell_type": "code",
      "metadata": {
        "colab": {
          "base_uri": "https://localhost:8080/",
          "height": 206
        },
        "id": "u0_pkFcQGMV-",
        "outputId": "0b0ce450-501d-4eee-c64a-a81dafa39aab"
      },
      "source": [
        "dataset.tail()"
      ],
      "execution_count": null,
      "outputs": [
        {
          "output_type": "execute_result",
          "data": {
            "text/html": [
              "<div>\n",
              "<style scoped>\n",
              "    .dataframe tbody tr th:only-of-type {\n",
              "        vertical-align: middle;\n",
              "    }\n",
              "\n",
              "    .dataframe tbody tr th {\n",
              "        vertical-align: top;\n",
              "    }\n",
              "\n",
              "    .dataframe thead th {\n",
              "        text-align: right;\n",
              "    }\n",
              "</style>\n",
              "<table border=\"1\" class=\"dataframe\">\n",
              "  <thead>\n",
              "    <tr style=\"text-align: right;\">\n",
              "      <th></th>\n",
              "      <th>sentiment</th>\n",
              "      <th>ids</th>\n",
              "      <th>date</th>\n",
              "      <th>flag</th>\n",
              "      <th>user</th>\n",
              "      <th>text</th>\n",
              "    </tr>\n",
              "  </thead>\n",
              "  <tbody>\n",
              "    <tr>\n",
              "      <th>99995</th>\n",
              "      <td>0</td>\n",
              "      <td>1972650554</td>\n",
              "      <td>Sat May 30 09:37:33 PDT 2009</td>\n",
              "      <td>NO_QUERY</td>\n",
              "      <td>Jacky_ds</td>\n",
              "      <td>@courtneyyy3 ok i miss this http://bit.ly/mHYT2</td>\n",
              "    </tr>\n",
              "    <tr>\n",
              "      <th>99996</th>\n",
              "      <td>0</td>\n",
              "      <td>2002439310</td>\n",
              "      <td>Tue Jun 02 04:13:02 PDT 2009</td>\n",
              "      <td>NO_QUERY</td>\n",
              "      <td>katizzle</td>\n",
              "      <td>@dannymasterson me too!! but i have to wait fo...</td>\n",
              "    </tr>\n",
              "    <tr>\n",
              "      <th>99997</th>\n",
              "      <td>0</td>\n",
              "      <td>2005872748</td>\n",
              "      <td>Tue Jun 02 10:18:35 PDT 2009</td>\n",
              "      <td>NO_QUERY</td>\n",
              "      <td>limitedmage</td>\n",
              "      <td>No Kid Icarus tho.</td>\n",
              "    </tr>\n",
              "    <tr>\n",
              "      <th>99998</th>\n",
              "      <td>4</td>\n",
              "      <td>2000590855</td>\n",
              "      <td>Mon Jun 01 22:28:04 PDT 2009</td>\n",
              "      <td>NO_QUERY</td>\n",
              "      <td>debbbbbie</td>\n",
              "      <td>@taylorswift13 http://twitpic.com/6g790 - well...</td>\n",
              "    </tr>\n",
              "    <tr>\n",
              "      <th>99999</th>\n",
              "      <td>0</td>\n",
              "      <td>1563848545</td>\n",
              "      <td>Mon Apr 20 00:32:39 PDT 2009</td>\n",
              "      <td>NO_QUERY</td>\n",
              "      <td>KaylieFinneran</td>\n",
              "      <td>Is on her way to work, in this gorgeous weathe...</td>\n",
              "    </tr>\n",
              "  </tbody>\n",
              "</table>\n",
              "</div>"
            ],
            "text/plain": [
              "       sentiment  ...                                               text\n",
              "99995          0  ...  @courtneyyy3 ok i miss this http://bit.ly/mHYT2  \n",
              "99996          0  ...  @dannymasterson me too!! but i have to wait fo...\n",
              "99997          0  ...                                No Kid Icarus tho. \n",
              "99998          4  ...  @taylorswift13 http://twitpic.com/6g790 - well...\n",
              "99999          0  ...  Is on her way to work, in this gorgeous weathe...\n",
              "\n",
              "[5 rows x 6 columns]"
            ]
          },
          "metadata": {},
          "execution_count": 19
        }
      ]
    },
    {
      "cell_type": "code",
      "metadata": {
        "id": "JDFws2Kc7LCu"
      },
      "source": [
        "#Removing the unnecessary columns.\n",
        "dataset = dataset.drop(columns = [\"ids\", \"date\", \"flag\", \"user\"])"
      ],
      "execution_count": null,
      "outputs": []
    },
    {
      "cell_type": "markdown",
      "metadata": {
        "id": "FUV4z1R37YsI"
      },
      "source": [
        "# **# 2. Data Visualization**"
      ]
    },
    {
      "cell_type": "code",
      "metadata": {
        "colab": {
          "base_uri": "https://localhost:8080/",
          "height": 295
        },
        "id": "qsLdhp8t8A9Z",
        "outputId": "120281a5-bf39-43b6-e7ce-0ced29a5161f"
      },
      "source": [
        "# Replacing the values to ease understanding.\n",
        "dataset['sentiment'] = dataset['sentiment'].replace(4,1)\n",
        "\n",
        "# Plotting the distribution for dataset.\n",
        "ax = dataset.groupby('sentiment').count().plot(kind='bar', title='Distribution of data',\n",
        "                                               legend=False)\n",
        "ax.set_xticklabels(['Negative','Positive'], rotation=0)\n",
        "\n",
        "# Storing data in lists.\n",
        "text, sentiment = list(dataset['text']), list(dataset['sentiment'])"
      ],
      "execution_count": null,
      "outputs": [
        {
          "output_type": "display_data",
          "data": {
            "image/png": "[encoded data removed]",
            "text/plain": [
              "<Figure size 432x288 with 1 Axes>"
            ]
          },
          "metadata": {
            "needs_background": "light"
          }
        }
      ]
    },
    {
      "cell_type": "code",
      "metadata": {
        "colab": {
          "base_uri": "https://localhost:8080/"
        },
        "id": "fkdhLxmoMZ7J",
        "outputId": "f528e91a-41e1-4195-c18c-85b2d9d90f28"
      },
      "source": [
        "dataset.sentiment.unique()"
      ],
      "execution_count": null,
      "outputs": [
        {
          "output_type": "execute_result",
          "data": {
            "text/plain": [
              "array([0, 1])"
            ]
          },
          "metadata": {},
          "execution_count": 22
        }
      ]
    },
    {
      "cell_type": "code",
      "metadata": {
        "colab": {
          "base_uri": "https://localhost:8080/",
          "height": 143
        },
        "id": "D9EnEdCCMbHm",
        "outputId": "ff61114d-7c7f-4bc4-f9cc-b3fa7f33be84"
      },
      "source": [
        "dataset.groupby('sentiment').nunique()"
      ],
      "execution_count": null,
      "outputs": [
        {
          "output_type": "execute_result",
          "data": {
            "text/html": [
              "<div>\n",
              "<style scoped>\n",
              "    .dataframe tbody tr th:only-of-type {\n",
              "        vertical-align: middle;\n",
              "    }\n",
              "\n",
              "    .dataframe tbody tr th {\n",
              "        vertical-align: top;\n",
              "    }\n",
              "\n",
              "    .dataframe thead th {\n",
              "        text-align: right;\n",
              "    }\n",
              "</style>\n",
              "<table border=\"1\" class=\"dataframe\">\n",
              "  <thead>\n",
              "    <tr style=\"text-align: right;\">\n",
              "      <th></th>\n",
              "      <th>text</th>\n",
              "    </tr>\n",
              "    <tr>\n",
              "      <th>sentiment</th>\n",
              "      <th></th>\n",
              "    </tr>\n",
              "  </thead>\n",
              "  <tbody>\n",
              "    <tr>\n",
              "      <th>0</th>\n",
              "      <td>49585</td>\n",
              "    </tr>\n",
              "    <tr>\n",
              "      <th>1</th>\n",
              "      <td>50121</td>\n",
              "    </tr>\n",
              "  </tbody>\n",
              "</table>\n",
              "</div>"
            ],
            "text/plain": [
              "            text\n",
              "sentiment       \n",
              "0          49585\n",
              "1          50121"
            ]
          },
          "metadata": {},
          "execution_count": 23
        }
      ]
    },
    {
      "cell_type": "code",
      "metadata": {
        "colab": {
          "base_uri": "https://localhost:8080/"
        },
        "id": "JAH04eId8Ffv",
        "outputId": "db3f3884-3d58-4a52-c129-58d9a363fa23"
      },
      "source": [
        "print (\"No of postive sentiment tweets:\")\n",
        "n_positive = len(dataset[dataset['sentiment'] == 1])\n",
        "print(n_positive)"
      ],
      "execution_count": null,
      "outputs": [
        {
          "output_type": "stream",
          "text": [
            "No of postive sentiment tweets:\n",
            "50240\n"
          ],
          "name": "stdout"
        }
      ]
    },
    {
      "cell_type": "code",
      "metadata": {
        "colab": {
          "base_uri": "https://localhost:8080/"
        },
        "id": "hdEm4E8l8J25",
        "outputId": "a7df4e13-11ab-4913-a623-2d03e8772737"
      },
      "source": [
        "print (\"No of negative sentiment tweets:\")\n",
        "n_negative = len(dataset[dataset['sentiment'] == 0])\n",
        "print(n_negative)"
      ],
      "execution_count": null,
      "outputs": [
        {
          "output_type": "stream",
          "text": [
            "No of negative sentiment tweets:\n",
            "49760\n"
          ],
          "name": "stdout"
        }
      ]
    },
    {
      "cell_type": "code",
      "metadata": {
        "colab": {
          "base_uri": "https://localhost:8080/",
          "height": 223
        },
        "id": "wXjDhezp8Me_",
        "outputId": "e6b62abc-0d5f-48d7-d91a-308f82a31d22"
      },
      "source": [
        "# Print at least 2 tweets from each class of data set for the sanity check that labels match the text\n",
        "# Print +ve reviws\n",
        "print('Print at least 2 tweets from positive sentiment:')\n",
        "dataset_pos = dataset[dataset['sentiment'] == 1]\n",
        "dataset_pos.head(5)"
      ],
      "execution_count": null,
      "outputs": [
        {
          "output_type": "stream",
          "text": [
            "Print at least 2 tweets from positive sentiment:\n"
          ],
          "name": "stdout"
        },
        {
          "output_type": "execute_result",
          "data": {
            "text/html": [
              "<div>\n",
              "<style scoped>\n",
              "    .dataframe tbody tr th:only-of-type {\n",
              "        vertical-align: middle;\n",
              "    }\n",
              "\n",
              "    .dataframe tbody tr th {\n",
              "        vertical-align: top;\n",
              "    }\n",
              "\n",
              "    .dataframe thead th {\n",
              "        text-align: right;\n",
              "    }\n",
              "</style>\n",
              "<table border=\"1\" class=\"dataframe\">\n",
              "  <thead>\n",
              "    <tr style=\"text-align: right;\">\n",
              "      <th></th>\n",
              "      <th>sentiment</th>\n",
              "      <th>text</th>\n",
              "    </tr>\n",
              "  </thead>\n",
              "  <tbody>\n",
              "    <tr>\n",
              "      <th>2</th>\n",
              "      <td>1</td>\n",
              "      <td>@RASOfficial well yur neither, so i won't expe...</td>\n",
              "    </tr>\n",
              "    <tr>\n",
              "      <th>4</th>\n",
              "      <td>1</td>\n",
              "      <td>@juaneladio u need uncomment the alias in the ...</td>\n",
              "    </tr>\n",
              "    <tr>\n",
              "      <th>6</th>\n",
              "      <td>1</td>\n",
              "      <td>@julieannee haha yeah</td>\n",
              "    </tr>\n",
              "    <tr>\n",
              "      <th>14</th>\n",
              "      <td>1</td>\n",
              "      <td>In corona, great flight</td>\n",
              "    </tr>\n",
              "    <tr>\n",
              "      <th>16</th>\n",
              "      <td>1</td>\n",
              "      <td>it's all a bit of fun really</td>\n",
              "    </tr>\n",
              "  </tbody>\n",
              "</table>\n",
              "</div>"
            ],
            "text/plain": [
              "    sentiment                                               text\n",
              "2           1  @RASOfficial well yur neither, so i won't expe...\n",
              "4           1  @juaneladio u need uncomment the alias in the ...\n",
              "6           1                             @julieannee haha yeah \n",
              "14          1                           In corona, great flight \n",
              "16          1                      it's all a bit of fun really "
            ]
          },
          "metadata": {},
          "execution_count": 26
        }
      ]
    },
    {
      "cell_type": "code",
      "metadata": {
        "colab": {
          "base_uri": "https://localhost:8080/",
          "height": 223
        },
        "id": "La5OXE4j8PdS",
        "outputId": "b31b1179-5bfd-44f9-b344-b77dde051aa4"
      },
      "source": [
        "# Print at least 2 tweets from each class of data set for the sanity check that labels match the text\n",
        "# Print -ve reviws\n",
        "print('Print at least 2 tweets from negative sentiment:')\n",
        "dataset_neg = dataset[dataset['sentiment'] == 0]\n",
        "dataset_neg.head(5)"
      ],
      "execution_count": null,
      "outputs": [
        {
          "output_type": "stream",
          "text": [
            "Print at least 2 tweets from negative sentiment:\n"
          ],
          "name": "stdout"
        },
        {
          "output_type": "execute_result",
          "data": {
            "text/html": [
              "<div>\n",
              "<style scoped>\n",
              "    .dataframe tbody tr th:only-of-type {\n",
              "        vertical-align: middle;\n",
              "    }\n",
              "\n",
              "    .dataframe tbody tr th {\n",
              "        vertical-align: top;\n",
              "    }\n",
              "\n",
              "    .dataframe thead th {\n",
              "        text-align: right;\n",
              "    }\n",
              "</style>\n",
              "<table border=\"1\" class=\"dataframe\">\n",
              "  <thead>\n",
              "    <tr style=\"text-align: right;\">\n",
              "      <th></th>\n",
              "      <th>sentiment</th>\n",
              "      <th>text</th>\n",
              "    </tr>\n",
              "  </thead>\n",
              "  <tbody>\n",
              "    <tr>\n",
              "      <th>0</th>\n",
              "      <td>0</td>\n",
              "      <td>is busy cleaning windows and getting ready to ...</td>\n",
              "    </tr>\n",
              "    <tr>\n",
              "      <th>1</th>\n",
              "      <td>0</td>\n",
              "      <td>Meeewsic. I just wanna get back to the studio ...</td>\n",
              "    </tr>\n",
              "    <tr>\n",
              "      <th>3</th>\n",
              "      <td>0</td>\n",
              "      <td>had a fantabulous weekend!  now onto that payc...</td>\n",
              "    </tr>\n",
              "    <tr>\n",
              "      <th>5</th>\n",
              "      <td>0</td>\n",
              "      <td>@_iWade_ it was $98. I'm having an issue tho c...</td>\n",
              "    </tr>\n",
              "    <tr>\n",
              "      <th>7</th>\n",
              "      <td>0</td>\n",
              "      <td>Rain. BAH! I want to be playing guitar not sat...</td>\n",
              "    </tr>\n",
              "  </tbody>\n",
              "</table>\n",
              "</div>"
            ],
            "text/plain": [
              "   sentiment                                               text\n",
              "0          0  is busy cleaning windows and getting ready to ...\n",
              "1          0  Meeewsic. I just wanna get back to the studio ...\n",
              "3          0  had a fantabulous weekend!  now onto that payc...\n",
              "5          0  @_iWade_ it was $98. I'm having an issue tho c...\n",
              "7          0  Rain. BAH! I want to be playing guitar not sat..."
            ]
          },
          "metadata": {},
          "execution_count": 27
        }
      ]
    },
    {
      "cell_type": "markdown",
      "metadata": {
        "id": "avTwHNUJ8XCZ"
      },
      "source": [
        "# **#3. Data Pre-processing**"
      ]
    },
    {
      "cell_type": "code",
      "metadata": {
        "id": "qSZBL_y28ZhR"
      },
      "source": [
        "# Defining dictionary containing all emojis with their meanings.\n",
        "emojis = {':)': 'smile', ':-)': 'smile', ';d': 'wink', ':-E': 'vampire', ':(': 'sad', \n",
        "          ':-(': 'sad', ':-<': 'sad', ':P': 'raspberry', ':O': 'surprised',\n",
        "          ':-@': 'shocked', ':@': 'shocked',':-$': 'confused', ':\\\\': 'annoyed', \n",
        "          ':#': 'mute', ':X': 'mute', ':^)': 'smile', ':-&': 'confused', '$_$': 'greedy',\n",
        "          '@@': 'eyeroll', ':-!': 'confused', ':-D': 'smile', ':-0': 'yell', 'O.o': 'confused',\n",
        "          '<(-_-)>': 'robot', 'd[-_-]b': 'dj', \":'-)\": 'sadsmile', ';)': 'wink', \n",
        "          ';-)': 'wink', 'O:-)': 'angel','O*-)': 'angel','(:-D': 'gossip', '=^.^=': 'cat'}\n"
      ],
      "execution_count": null,
      "outputs": []
    },
    {
      "cell_type": "code",
      "metadata": {
        "id": "Tj0vTDm38gCg"
      },
      "source": [
        "#Removing Twitter Handles(@user)\n",
        "#User Defined function to remove patten\n",
        "#Removing Twitter Handles(@user)\n",
        "#User Defined function to remove patten\n",
        "#Removing Emojis\n",
        "\n",
        "def preprocess(tweet):\n",
        "    # Defining regex patterns.\n",
        "    urlPattern        = r\"((http://)[^ ]*|(https://)[^ ]*|( www\\.)[^ ]*)\"\n",
        "    userPattern       = '@[^\\s]+'\n",
        "    alphaPattern      = \"[^a-zA-Z0-9]\"\n",
        "    sequencePattern   = r\"(.)\\1\\1+\"\n",
        "        \n",
        "                  \n",
        "    # Replace all URls with 'URL'\n",
        "    tweet = re.sub(urlPattern,' URL',tweet)\n",
        "     # Replace all emojis.\n",
        "    for emoji in emojis.keys():\n",
        "        tweet = tweet.replace(emoji, \"EMOJI\" + emojis[emoji])        \n",
        "    # Replace @USERNAME to 'USER'.\n",
        "    tweet = re.sub(userPattern,' USER', tweet)        \n",
        "    # Replace all non alphabets.\n",
        "    tweet = re.sub(alphaPattern, \" \", tweet)\n",
        "    \n",
        "    return tweet"
      ],
      "execution_count": null,
      "outputs": []
    },
    {
      "cell_type": "code",
      "metadata": {
        "id": "FbhFhw8r8heU"
      },
      "source": [
        "dataset['text'] = dataset['text'].apply(preprocess)"
      ],
      "execution_count": null,
      "outputs": []
    },
    {
      "cell_type": "code",
      "metadata": {
        "colab": {
          "base_uri": "https://localhost:8080/",
          "height": 206
        },
        "id": "hL7AEGtH81JS",
        "outputId": "baad6cd2-0985-4101-ffae-0faa336a5f39"
      },
      "source": [
        "#dataset1 = dataset\n",
        "dataset.head(5)\n"
      ],
      "execution_count": null,
      "outputs": [
        {
          "output_type": "execute_result",
          "data": {
            "text/html": [
              "<div>\n",
              "<style scoped>\n",
              "    .dataframe tbody tr th:only-of-type {\n",
              "        vertical-align: middle;\n",
              "    }\n",
              "\n",
              "    .dataframe tbody tr th {\n",
              "        vertical-align: top;\n",
              "    }\n",
              "\n",
              "    .dataframe thead th {\n",
              "        text-align: right;\n",
              "    }\n",
              "</style>\n",
              "<table border=\"1\" class=\"dataframe\">\n",
              "  <thead>\n",
              "    <tr style=\"text-align: right;\">\n",
              "      <th></th>\n",
              "      <th>sentiment</th>\n",
              "      <th>text</th>\n",
              "    </tr>\n",
              "  </thead>\n",
              "  <tbody>\n",
              "    <tr>\n",
              "      <th>0</th>\n",
              "      <td>0</td>\n",
              "      <td>is busy cleaning windows and getting ready to ...</td>\n",
              "    </tr>\n",
              "    <tr>\n",
              "      <th>1</th>\n",
              "      <td>0</td>\n",
              "      <td>Meeewsic  I just wanna get back to the studio ...</td>\n",
              "    </tr>\n",
              "    <tr>\n",
              "      <th>2</th>\n",
              "      <td>1</td>\n",
              "      <td>USER well yur neither  so i won t expect to s...</td>\n",
              "    </tr>\n",
              "    <tr>\n",
              "      <th>3</th>\n",
              "      <td>0</td>\n",
              "      <td>had a fantabulous weekend   now onto that payc...</td>\n",
              "    </tr>\n",
              "    <tr>\n",
              "      <th>4</th>\n",
              "      <td>1</td>\n",
              "      <td>USER u need uncomment the alias in the  bashr...</td>\n",
              "    </tr>\n",
              "  </tbody>\n",
              "</table>\n",
              "</div>"
            ],
            "text/plain": [
              "   sentiment                                               text\n",
              "0          0  is busy cleaning windows and getting ready to ...\n",
              "1          0  Meeewsic  I just wanna get back to the studio ...\n",
              "2          1   USER well yur neither  so i won t expect to s...\n",
              "3          0  had a fantabulous weekend   now onto that payc...\n",
              "4          1   USER u need uncomment the alias in the  bashr..."
            ]
          },
          "metadata": {},
          "execution_count": 31
        }
      ]
    },
    {
      "cell_type": "code",
      "metadata": {
        "id": "c62rZtViaOxv"
      },
      "source": [
        "def preprocess_2(tweet):\n",
        "      sequencePattern   = r\"(.)\\1\\1+\"\n",
        "      tweet = re.sub('www',' ', tweet)   \n",
        "      tweet = re.sub('WWW',' ', tweet)\n",
        "      tweet = re.sub('USER',' ', tweet)\n",
        "      tweet = re.sub('user',' ', tweet)\n",
        "      tweet = re.sub('URL',' ', tweet)\n",
        "      tweet = re.sub('url',' ', tweet)   \n",
        "       # Replace 3 or more consecutive letters by ' '.\n",
        "      tweet = re.sub(sequencePattern,' ',  tweet)\n",
        "      return tweet"
      ],
      "execution_count": null,
      "outputs": []
    },
    {
      "cell_type": "code",
      "metadata": {
        "id": "I0GuCkQtciT1"
      },
      "source": [
        "dataset['text'] = dataset['text'].apply(preprocess_2)"
      ],
      "execution_count": null,
      "outputs": []
    },
    {
      "cell_type": "code",
      "metadata": {
        "colab": {
          "base_uri": "https://localhost:8080/"
        },
        "id": "Xm0W_YeZcoDV",
        "outputId": "4bcbfeea-e3a4-4417-b29b-f533ef86b545"
      },
      "source": [
        "print(len(dataset))"
      ],
      "execution_count": null,
      "outputs": [
        {
          "output_type": "stream",
          "text": [
            "100000\n"
          ],
          "name": "stdout"
        }
      ]
    },
    {
      "cell_type": "code",
      "metadata": {
        "colab": {
          "base_uri": "https://localhost:8080/"
        },
        "id": "rm3uTZtj-_wq",
        "outputId": "34f6b0ac-aa00-4846-d0dd-fc47f5f1ac96"
      },
      "source": [
        "dataset_sentiment = dataset.sentiment\n",
        "dataset_text = dataset.text\n",
        "dataset_text = dataset_text.str.lower()\n",
        "dataset_text.head(5)"
      ],
      "execution_count": null,
      "outputs": [
        {
          "output_type": "execute_result",
          "data": {
            "text/plain": [
              "0    is busy cleaning windows and getting ready to ...\n",
              "1    m wsic  i just wanna get back to the studio an...\n",
              "2     well yur neither  so i won t expect to see yo...\n",
              "3    had a fantabulous weekend now onto that paych ...\n",
              "4      u need uncomment the alias in the  bashrc file \n",
              "Name: text, dtype: object"
            ]
          },
          "metadata": {},
          "execution_count": 35
        }
      ]
    },
    {
      "cell_type": "code",
      "metadata": {
        "id": "CfB0ZA6UFkGI"
      },
      "source": [
        "#Function to create a graph from the node list and p value(defines the maximum nos of edge 1 node can have.)\n",
        "def Graph(node,p):\n",
        "  G = nx.Graph()\n",
        "  G.add_nodes_from(node)\n",
        "\n",
        "#Creating the edges from the node list based on value of p (i.e. if p =2 then each node is connected to previous 2 nodes.). \n",
        "  edge = []\n",
        "  \n",
        "\n",
        "  for i in range (0,len(node)):\n",
        "      for j in range (1,(p+1)):\n",
        "          if((i+j)< len(node)):\n",
        "              edge.append([node[i],node[i+j]])\n",
        "  G.add_edges_from(edge)  \n",
        "  return G  "
      ],
      "execution_count": null,
      "outputs": []
    },
    {
      "cell_type": "code",
      "metadata": {
        "id": "Ov6UxF5rhvyF"
      },
      "source": [
        "#Function to update the egde values with co-occurance probability using Glove.\n",
        "def Update_Prob_Adj_Mat(Graph):\n",
        "  node = list(Graph.nodes)\n",
        "  Adj_Matrix = nx.to_numpy_matrix(Graph)\n",
        "  Adj_Matrix = np.array(Adj_Matrix)\n",
        "  m = Adj_Matrix.shape[0]\n",
        "  n = Adj_Matrix.shape[1]\n",
        "  for i in range(0,m):\n",
        "    for j in range(0,n):\n",
        "      if (i != j):                    #For i=j the adjacency matrix element will be always 0 hence this should be excluded.\n",
        "        vector1 = glove[node[i]]\n",
        "        vector2 = glove[node[j]]\n",
        "        normalize_vector1 = tf.nn.l2_normalize(vector1,0)  # Normalize the word vector\n",
        "        normalize_vector2 = tf.nn.l2_normalize(vector2,0)  # Normalize the word vector\n",
        "        # Calculate the norm value for both the word vector. \n",
        "        a = tf.reduce_sum(tf.multiply(normalize_vector1,normalize_vector1))\n",
        "        b = tf.reduce_sum(tf.multiply(normalize_vector2,normalize_vector2))\n",
        "        a = tf.cast(a, float, name=None)\n",
        "        a = a.numpy()\n",
        "        b = tf.cast(b, float, name=None)\n",
        "        b = b.numpy()   \n",
        "        if (a!=0 and b !=0):    # If any one of the norm of the word vector is 0 then it should be execluded as the cosine similarlity will be nan.\n",
        "          prob =  1 - spatial.distance.cosine(vector1, vector2) #cosine_similarity between 2 glove vector\n",
        "          Adj_Matrix[i][j] = prob\n",
        "  return  Adj_Matrix"
      ],
      "execution_count": null,
      "outputs": []
    },
    {
      "cell_type": "code",
      "metadata": {
        "id": "6O_sPqIjzzAK"
      },
      "source": [
        "# This function prints a given graph \n",
        "\n",
        "def print_graph(graph):\n",
        "\n",
        "    pos = nx.spring_layout(graph)  # positions for all nodes\n",
        "\n",
        "    # nodes\n",
        "    nx.draw_networkx_nodes(graph, pos, node_size=1200)\n",
        "\n",
        "    # edges\n",
        "    nx.draw_networkx_edges(graph, pos, edgelist=graph.edges, width=3)\n",
        "\n",
        "    # labels\n",
        "    nx.draw_networkx_labels(graph, pos, font_size=10, font_family=\"sans-serif\")\n",
        "\n",
        "     # labels\n",
        "    nx.draw_networkx_edge_labels(graph, pos, font_size=10, font_family=\"sans-serif\")\n",
        "\n",
        "    plt.axis(\"off\")\n",
        "    plt.show()"
      ],
      "execution_count": null,
      "outputs": []
    },
    {
      "cell_type": "code",
      "metadata": {
        "id": "VzEhMPmP04J9"
      },
      "source": [
        "#Node embedding function\n",
        "def node_embedding(node):\n",
        "  x= len(node)\n",
        "  y = 100 #Number of Dimension for Node embedding\n",
        "  w2v = np.empty((x,y), float)\n",
        "  for i in range (0, len(node)):\n",
        "    if (i< len(node)):\n",
        "      T = glove[node[i]]\n",
        "      Vec = T.numpy()\n",
        "      w2v[i] = Vec\n",
        "  return w2v"
      ],
      "execution_count": null,
      "outputs": []
    },
    {
      "cell_type": "code",
      "metadata": {
        "colab": {
          "base_uri": "https://localhost:8080/",
          "height": 248
        },
        "id": "80e9bA52m4LW",
        "outputId": "2c18e0ad-ba2b-4e54-acf7-a710ec4ac5df"
      },
      "source": [
        "#Example of Text Level Graph Creation using the value of p=2.\n",
        "ex =1\n",
        "node1 = dataset_text[ex].split()\n",
        "Graph1 = Graph(node1,2)\n",
        "print_graph(Graph1)"
      ],
      "execution_count": null,
      "outputs": [
        {
          "output_type": "display_data",
          "data": {
            "image/png": "[encoded data removed]",
            "text/plain": [
              "<Figure size 432x288 with 1 Axes>"
            ]
          },
          "metadata": {}
        }
      ]
    },
    {
      "cell_type": "code",
      "metadata": {
        "id": "3FmUTguYA0-f"
      },
      "source": [
        "#Message Passing between the nodes of the text level graph\n",
        "\n",
        "def msg_pass(node,Adj_Mat,w2v,n):    # n is a trainable variable(value between 0 to 1) for node n that indicates how much information of rn should be kept\n",
        "  x= len(node)\n",
        "  y = 100 #Number of Dimension for Node embedding\n",
        "   \n",
        "  Mn_Temp = np.empty((4,y),float) # Temporary Matrix to hold the calculation of w2v[row] * edge[i][j] weight\n",
        "  Mn = np.empty((1,y), float) #Matrix to captur the highestest value in each dimension for each node(word) processing\n",
        "  Temp = np.empty((1,100), float) # Temporary Matrix used for capturing the value of multiplication of the edge weight and w2v of that word.\n",
        "  w2v_new_Temp = np.empty((x,y), float)#Matrix to capture all Mn for each node(word) in the graph \n",
        "  w2v_new= np.empty((x,y), float)#Final word embeddd Matrix to capture updated with message passing from linked nodes(words)\n",
        "  \n",
        "  for i in range (0, x):\n",
        "    for j in range ((i-p), (i+p+1)):\n",
        "      if ( (j>=0) & (j != i) & (j<len(node))):\n",
        "        Temp = Adj_Mat.item(i,j)*w2v[i]\n",
        "        Temp = Temp.reshape(1,100)\n",
        "        Mn_Temp = np.append(Mn_Temp, Temp , axis = 0)\n",
        "        Mn_Temp = np.delete(Mn_Temp, 0,0)\n",
        "    Mn = np.amax(Mn_Temp, axis = 0)\n",
        "    Mn = Mn.reshape(1,100)\n",
        "    w2v_new[i]= w2v_new[i]+(1-n)*Mn[0] + n*w2v[i] \n",
        "  w2v_new = np.nan_to_num(w2v_new)\n",
        "  return w2v_new"
      ],
      "execution_count": null,
      "outputs": []
    },
    {
      "cell_type": "code",
      "metadata": {
        "id": "6uiZKjrNZcMt"
      },
      "source": [
        "#Creation of Text Level Graph\n",
        "import networkx as nx\n",
        "import numpy as np\n",
        "\n",
        "def text_level_graph(token,p,n):\n",
        "\n",
        "  G = Graph(token,p)\n",
        "  # Adj_Matrix = nx.to_numpy_matrix(G)\n",
        "  # Adj_Matrix = np.array(Adj_Matrix)\n",
        "  \n",
        " \n",
        "  #Node embedding function\n",
        "  node = list(G.nodes)\n",
        "  Adj_Matrix = Update_Prob_Adj_Mat(G)\n",
        "  Adj_Matrix = np.array(Adj_Matrix)\n",
        "  w2v = node_embedding(node)\n",
        "  w2v_new = msg_pass(node,Adj_Matrix,w2v,n)\n",
        "\n",
        "\n",
        "  n1 = (w2v_new.shape[0]-1) #Determine the no of rows in the w2v_new matrix. This value will be used to inform the no of iteration for the \n",
        "  #for loop to add the elements of a column together.\n",
        "\n",
        "  node_emb_total = np.empty((1,100), dtype = np.float32) # Define the Numpay Array(Matrix) with a dimension of 1 x 100 to capture the final node embedding value post msg passign aggregation.\n",
        "\n",
        "  for i in range (0,n1):\n",
        "    node_emb_total[0] = node_emb_total[0] + w2v_new[i]\n",
        "  return node_emb_total\n",
        "\n",
        "  "
      ],
      "execution_count": null,
      "outputs": []
    },
    {
      "cell_type": "code",
      "metadata": {
        "id": "cnBnhpn9bSi5"
      },
      "source": [
        "# glove = torchtext.vocab.GloVe(name=\"6B\", # trained on  Twitter corpus\n",
        "#                               dim=100)   # embedding size = 100"
      ],
      "execution_count": null,
      "outputs": []
    },
    {
      "cell_type": "code",
      "metadata": {
        "id": "hmdZZb3z--bK",
        "colab": {
          "base_uri": "https://localhost:8080/"
        },
        "outputId": "ae58ad20-1fbd-4315-dea1-b7c96d4b1159"
      },
      "source": [
        "glove = torchtext.vocab.GloVe(name=\"twitter.27B\", dim = 100)"
      ],
      "execution_count": null,
      "outputs": [
        {
          "output_type": "stream",
          "text": [
            ".vector_cache/glove.twitter.27B.zip: 1.52GB [04:46, 5.31MB/s]                            \n",
            "100%|█████████▉| 1193513/1193514 [00:51<00:00, 23211.63it/s]\n"
          ],
          "name": "stderr"
        }
      ]
    },
    {
      "cell_type": "markdown",
      "metadata": {
        "id": "mQFv7iGbvG5s"
      },
      "source": [
        "#Start of testing and debugging"
      ]
    },
    {
      "cell_type": "code",
      "metadata": {
        "colab": {
          "base_uri": "https://localhost:8080/"
        },
        "id": "9z5ZksbdeQjp",
        "outputId": "1037daa8-395e-4cda-938e-2d8c2ad00067"
      },
      "source": [
        "#To test that Glove is active.\n",
        "\n",
        "list_word = ['I', 'am', 'proud', 'of', 'you', 'spymaster']\n",
        "a = glove[list_word[3]]\n",
        "b = glove[list_word[4]]\n",
        "normalize_a = tf.nn.l2_normalize(a,0)\n",
        "# normalize_b = tf.nn.l2_normalize(a,0)\n",
        "# c = tf.reduce_sum(tf.multiply(normalize_a,normalize_b))\n",
        "# c = tf.cast(c, float, name=None)\n",
        "\n",
        "# c = c.numpy()\n",
        "c = tf.reduce_sum(tf.multiply(normalize_a,normalize_a))\n",
        "c = tf.cast(c, float, name=None)\n",
        "\n",
        "c = c.numpy()\n",
        "c"
      ],
      "execution_count": null,
      "outputs": [
        {
          "output_type": "execute_result",
          "data": {
            "text/plain": [
              "1.0"
            ]
          },
          "metadata": {},
          "execution_count": 48
        }
      ]
    },
    {
      "cell_type": "markdown",
      "metadata": {
        "id": "R3uQuezGvLLL"
      },
      "source": [
        "#End of testing and debugging**"
      ]
    },
    {
      "cell_type": "code",
      "metadata": {
        "colab": {
          "base_uri": "https://localhost:8080/",
          "height": 35
        },
        "id": "PlJ6preQ66AH",
        "outputId": "aacfa509-537d-4a7d-cfd4-e980d6310f36"
      },
      "source": [
        "dataset_text[300]"
      ],
      "execution_count": null,
      "outputs": [
        {
          "output_type": "execute_result",
          "data": {
            "application/vnd.google.colaboratory.intrinsic+json": {
              "type": "string"
            },
            "text/plain": [
              "'i lack the skills needed to assemble a bicycle for a 6 year old girl please boo me as i walk by '"
            ]
          },
          "metadata": {},
          "execution_count": 44
        }
      ]
    },
    {
      "cell_type": "markdown",
      "metadata": {
        "id": "5iCq_lrYpAb6"
      },
      "source": [
        "Preparation of input data matrix 'X' (New embedding matrix updated with the message passing) for the entire Tweeter dataset."
      ]
    },
    {
      "cell_type": "code",
      "metadata": {
        "id": "7sI-dvbmuRg9",
        "colab": {
          "base_uri": "https://localhost:8080/"
        },
        "outputId": "9dfe742d-bcfc-46f4-a8df-4ab5115030e0"
      },
      "source": [
        "l = len(dataset) # No of rows in dataset which will be use for the no iteration to prepare the text level graph\n",
        "p=2\n",
        "n = 0.5\n",
        "TG_w2v_Matrix_final = np.empty((0,100),dtype = np.float32) #Define the final Text Level W2V matrix after message passing agreegation. Which will be input feature matrix to ML model\n",
        "node_emb_total = np.zeros((1,100), dtype = np.float32)\n",
        "\n",
        "\n",
        "\n",
        "for i in range (0, l):\n",
        "  token = dataset_text[i].split()\n",
        "  node_emb_total = np.zeros((1,100), dtype = np.float32)\n",
        "  if (node_emb_total[node_emb_total > 1E3] is True):\n",
        "    print(node_emb_total[0])\n",
        "  node_emb_total[0] = node_emb_total[0] + text_level_graph(token,p,n)\n",
        "  \n",
        "  TG_w2v_Matrix_final = np.append(TG_w2v_Matrix_final, node_emb_total, axis = 0)\n",
        "  \n",
        "  # TG_w2v_Matrix_final = np.array(TG_w2v_Matrix_final) # Commented for performance issue\n"
      ],
      "execution_count": null,
      "outputs": [
        {
          "output_type": "stream",
          "text": [
            "/usr/local/lib/python3.7/dist-packages/ipykernel_launcher.py:22: RuntimeWarning: invalid value encountered in add\n"
          ],
          "name": "stderr"
        }
      ]
    },
    {
      "cell_type": "code",
      "metadata": {
        "colab": {
          "base_uri": "https://localhost:8080/"
        },
        "id": "QKoMGwsZ1h9g",
        "outputId": "464790a9-6115-40e9-c24b-08c8ba0f625e"
      },
      "source": [
        "# To check the final word2vector matrix has incorporated the total number texts. The number of rows should be same as the number of texts in the dataset\n",
        "# and the number of column should be same as number of feature in node2vector embedding.\n",
        "min_value = np.min(TG_w2v_Matrix_final)\n",
        "print(min_value)\n",
        "max_value = np.max(TG_w2v_Matrix_final)\n",
        "print(max_value)"
      ],
      "execution_count": null,
      "outputs": [
        {
          "output_type": "stream",
          "text": [
            "-inf\n",
            "inf\n"
          ],
          "name": "stdout"
        }
      ]
    },
    {
      "cell_type": "code",
      "metadata": {
        "id": "9h6ETm4ZB7Rj"
      },
      "source": [
        "TG_w2v_Matrix_final[TG_w2v_Matrix_final <= -1E308] = -1E20"
      ],
      "execution_count": null,
      "outputs": []
    },
    {
      "cell_type": "code",
      "metadata": {
        "id": "7ddMUq8vCCDk"
      },
      "source": [
        "TG_w2v_Matrix_final[TG_w2v_Matrix_final >= 1E50] = 1E20"
      ],
      "execution_count": null,
      "outputs": []
    },
    {
      "cell_type": "code",
      "metadata": {
        "colab": {
          "base_uri": "https://localhost:8080/"
        },
        "id": "B8QZhk0b9xrW",
        "outputId": "d3b7b3ea-2eb5-490d-da77-784ff8268f0c"
      },
      "source": [
        "min_value = np.min(TG_w2v_Matrix_final)\n",
        "print(min_value)\n",
        "max_value = np.max(TG_w2v_Matrix_final)\n",
        "print(max_value)"
      ],
      "execution_count": null,
      "outputs": [
        {
          "output_type": "stream",
          "text": [
            "-8.0264145e+30\n",
            "9.34887e+25\n"
          ],
          "name": "stdout"
        }
      ]
    },
    {
      "cell_type": "code",
      "metadata": {
        "colab": {
          "base_uri": "https://localhost:8080/"
        },
        "id": "hINbcmfaGfzM",
        "outputId": "44b40868-c6d4-401a-ffa8-a981cb0fe1d7"
      },
      "source": [
        "dataset_sentiment.to_numpy()\n",
        "dataset_sentiment.shape[0]"
      ],
      "execution_count": null,
      "outputs": [
        {
          "output_type": "execute_result",
          "data": {
            "text/plain": [
              "100000"
            ]
          },
          "metadata": {},
          "execution_count": 51
        }
      ]
    },
    {
      "cell_type": "code",
      "metadata": {
        "id": "p3EmgZcQ5zBk",
        "colab": {
          "base_uri": "https://localhost:8080/"
        },
        "outputId": "d3496324-fc28-41b1-84fd-57a65cd4a41b"
      },
      "source": [
        "num_classes = len(np.unique(dataset_sentiment))\n",
        "num_classes"
      ],
      "execution_count": null,
      "outputs": [
        {
          "output_type": "execute_result",
          "data": {
            "text/plain": [
              "2"
            ]
          },
          "metadata": {},
          "execution_count": 52
        }
      ]
    },
    {
      "cell_type": "markdown",
      "metadata": {
        "id": "Ln2QNClzhS77"
      },
      "source": [
        "#**#4.Model Building**\n"
      ]
    },
    {
      "cell_type": "code",
      "metadata": {
        "colab": {
          "base_uri": "https://localhost:8080/"
        },
        "id": "LG9pK-_7WBg1",
        "outputId": "beacb1b4-bccb-4674-cd34-f24fc77070f8"
      },
      "source": [
        "X_train, X_test, Y_train, Y_test = train_test_split(TG_w2v_Matrix_final, dataset_sentiment, test_size=0.2, random_state=37)\n",
        "print('# Train data samples:', X_train.shape[0])\n",
        "print('# Test data samples:', X_test.shape[0])\n",
        "X_data = TG_w2v_Matrix_final\n",
        "Y_data = dataset_sentiment\n",
        "assert X_train.shape[0] == Y_train.shape[0]\n",
        "assert X_test.shape[0] == Y_test.shape[0]"
      ],
      "execution_count": null,
      "outputs": [
        {
          "output_type": "stream",
          "text": [
            "# Train data samples: 80000\n",
            "# Test data samples: 20000\n"
          ],
          "name": "stdout"
        }
      ]
    },
    {
      "cell_type": "code",
      "metadata": {
        "id": "D-snJS3IP5FC"
      },
      "source": [
        "# X_train = tf.cast(X_train, tf.float32)\n",
        "# Y_train = tf.cast(Y_train,tf.int32)\n",
        "# X_test = tf.cast(X_train, tf.float32)\n",
        "# Y_test = tf.cast(Y_train,tf.int32)"
      ],
      "execution_count": null,
      "outputs": []
    },
    {
      "cell_type": "code",
      "metadata": {
        "colab": {
          "base_uri": "https://localhost:8080/"
        },
        "id": "BD-log_fWpxp",
        "outputId": "883c3c00-0156-4ae6-b437-6bd06dcba019"
      },
      "source": [
        "#Print the head to check the X_train dataset\n",
        "Y_train"
      ],
      "execution_count": null,
      "outputs": [
        {
          "output_type": "execute_result",
          "data": {
            "text/plain": [
              "45029    1\n",
              "97602    0\n",
              "68872    0\n",
              "28951    1\n",
              "98026    1\n",
              "        ..\n",
              "66524    0\n",
              "30971    1\n",
              "74572    0\n",
              "20843    1\n",
              "34703    1\n",
              "Name: sentiment, Length: 80000, dtype: int64"
            ]
          },
          "metadata": {},
          "execution_count": 55
        }
      ]
    },
    {
      "cell_type": "code",
      "metadata": {
        "colab": {
          "base_uri": "https://localhost:8080/"
        },
        "id": "krp3Zgw0JmO4",
        "outputId": "c3582fe4-14e7-4787-cec4-8ea6d9b7f8bd"
      },
      "source": [
        "print(X_train.shape, X_test.shape, Y_train.shape, Y_test.shape)"
      ],
      "execution_count": null,
      "outputs": [
        {
          "output_type": "stream",
          "text": [
            "(80000, 100) (20000, 100) (80000,) (20000,)\n"
          ],
          "name": "stdout"
        }
      ]
    },
    {
      "cell_type": "code",
      "metadata": {
        "id": "i5ctEpyCOkm4"
      },
      "source": [
        "# opt = Adam(learning_rate=0.01)\n",
        "# model.compile(optimizer = opt, loss =cross_entropy_loss, metrics=['accuracy'])"
      ],
      "execution_count": null,
      "outputs": []
    },
    {
      "cell_type": "code",
      "metadata": {
        "id": "USBSYMZCshyj"
      },
      "source": [
        "#Define a function for the loss function\n",
        "\n",
        "# Initialize weight parameter to all 1 and bias(number of classes) to 0.\n",
        "num_features = 100\n",
        "num_classes = len(np.unique(dataset_sentiment))\n",
        "\n",
        "# W = tf.Variable(tf.ones([num_features, num_classes]), name=\"weight\")\n",
        "# b = tf.Variable(tf.zeros([num_classes]), name=\"bias\")\n",
        "\n",
        "# Initialize weight parameter  and bias(number of classes) with random number.\n",
        "W = tf.Variable(tf.random.uniform([num_features, num_classes]), name=\"weight\")\n",
        "b = tf.Variable(tf.random.uniform([num_classes]), name=\"bias\")\n",
        "\n",
        "\n",
        "def logistic_regression (x):\n",
        "  x = tf.cast(x, tf.float32)\n",
        "  y = tf.matmul(x, W) + b\n",
        "  y_pred = tf.nn.softmax(tf.keras.activations.relu(y))\n",
        "  return y_pred\n",
        "\n",
        "def cross_entropy_loss(y_true, y_pred):\n",
        "  y_true = tf.one_hot(y_true, depth=num_classes) #Encode label to a one hot vector.\n",
        "  y_pred = tf.clip_by_value(y_pred, 1e-9, 1.0) ## Clip prediction values to avoid log(0) error.\n",
        "  #loss = tf.reduce_mean(-tf.reduce_sum( y_true * tf.math.log(tf.clip_by_value(y_pred, 1e-10, 1.0)))) \n",
        "  loss = tf.math.multiply_no_nan(-((y_true, tf.math.log(y_pred))+ tf.math.multiply_no_nan((1- y_true), tf.math.log(1-y_pred))))\n",
        "  # loss = tf.nn.softmax_cross_entropy_with_logits(y_pred, y_true, axis=-1, name=None)\n",
        "  #cross_entropy = -tf.reduce_sum(y_*tf.log(tf.clip_by_value(y_conv,1e-10,1.0)))\n",
        "  loss = tf.where(tf.math.is_nan(loss), tf.zeros_like(loss), loss)\n",
        "  loss = tf.math.reduce_mean(-tf.reduce_sum(loss))\n",
        "  return loss\n"
      ],
      "execution_count": null,
      "outputs": []
    },
    {
      "cell_type": "markdown",
      "metadata": {
        "id": "WhJxdvcnSene"
      },
      "source": [
        "Start of Debugging for nan issue"
      ]
    },
    {
      "cell_type": "code",
      "metadata": {
        "id": "u6wobGpxUuSw"
      },
      "source": [
        "#X_train = tf.cast(X_train, float)\n",
        "# X_train = tf.cast(X_train, tf.float16)\n",
        "#X_train.shape"
      ],
      "execution_count": null,
      "outputs": []
    },
    {
      "cell_type": "markdown",
      "metadata": {
        "id": "axduJEh_SkyI"
      },
      "source": [
        "End of debugging nad testing of nan issue"
      ]
    },
    {
      "cell_type": "code",
      "metadata": {
        "id": "FSptts1q9K9f"
      },
      "source": [
        "model = keras.Sequential()\n",
        "model.add(layers.Dense(100, activation=\"relu\" ,kernel_regularizer=keras.regularizers.l2(l=0.0001)))\n",
        "model.add(layers.Dense(1, activation=\"Softmax\"))"
      ],
      "execution_count": null,
      "outputs": []
    },
    {
      "cell_type": "code",
      "metadata": {
        "id": "GsF_h41hR2RB"
      },
      "source": [
        "# model.save(\"model\", save_format='tf')\n",
        "opt = Adam(learning_rate=0.01)\n",
        "\n",
        "model.compile(optimizer = opt, loss = 'binary_crossentropy' , metrics=['accuracy'])\n",
        "\n",
        "\n"
      ],
      "execution_count": null,
      "outputs": []
    },
    {
      "cell_type": "code",
      "metadata": {
        "id": "yxAYP5ZpmKRs"
      },
      "source": [
        "model_1 = keras.Sequential()\n",
        "model_1.add(keras.layers.Dense(100, activation='relu', kernel_regularizer=keras.regularizers.l2(l=0.0001)))\n",
        "model_1.add(keras.layers.Dropout(0.5))\n",
        "model_1.add(keras.layers.Dense(50, activation='relu', kernel_regularizer=keras.regularizers.l2(l=0.0001)))\n",
        "\n",
        "model_1.add(keras.layers.Dense(1, activation='sigmoid'))\n",
        "\n"
      ],
      "execution_count": null,
      "outputs": []
    },
    {
      "cell_type": "code",
      "metadata": {
        "id": "8Bw7JEiAmh94"
      },
      "source": [
        "opt = Adam(learning_rate=0.01)\n",
        "\n",
        "# model_1.compile(optimizer = opt, loss ='binary_crossentropy', metrics=['accuracy'])\n",
        "model_1.compile(optimizer = opt, loss =cross_entropy_loss, metrics=['accuracy'])\n",
        "\n"
      ],
      "execution_count": null,
      "outputs": []
    },
    {
      "cell_type": "code",
      "metadata": {
        "colab": {
          "base_uri": "https://localhost:8080/"
        },
        "id": "Ar1_bDBEmqUH",
        "outputId": "c59f1352-7a2e-4ab4-ed27-627e43a8b34a"
      },
      "source": [
        "no_of_epcohs = 100\n",
        "gradient_batch_size = 32\n",
        "\n",
        "history = model.fit(X_train, \n",
        "                    Y_train,\n",
        "                    validation_split = 0.2,\n",
        "                    steps_per_epoch = 5,\n",
        "                    epochs= no_of_epcohs,\n",
        "                    batch_size=gradient_batch_size, verbose = 1)\n",
        "\n",
        "\n",
        "model.summary()"
      ],
      "execution_count": null,
      "outputs": [
        {
          "output_type": "stream",
          "text": [
            "Epoch 1/100\n",
            "5/5 [==============================] - 2s 199ms/step - loss: 8.7757 - accuracy: 0.4250 - val_loss: 7.6096 - val_accuracy: 0.5013\n",
            "Epoch 2/100\n",
            "5/5 [==============================] - 1s 161ms/step - loss: 6.5789 - accuracy: 0.5688 - val_loss: 7.6067 - val_accuracy: 0.5013\n",
            "Epoch 3/100\n",
            "5/5 [==============================] - 1s 161ms/step - loss: 6.6722 - accuracy: 0.5625 - val_loss: 7.6059 - val_accuracy: 0.5013\n",
            "Epoch 4/100\n",
            "5/5 [==============================] - 1s 163ms/step - loss: 6.8624 - accuracy: 0.5500 - val_loss: 7.6058 - val_accuracy: 0.5013\n",
            "Epoch 5/100\n",
            "5/5 [==============================] - 0s 113ms/step - loss: 7.7202 - accuracy: 0.4938 - val_loss: 7.6059 - val_accuracy: 0.5013\n",
            "Epoch 6/100\n",
            "5/5 [==============================] - 0s 106ms/step - loss: 7.7202 - accuracy: 0.4938 - val_loss: 7.6058 - val_accuracy: 0.5013\n",
            "Epoch 7/100\n",
            "5/5 [==============================] - 0s 109ms/step - loss: 7.8154 - accuracy: 0.4875 - val_loss: 7.6057 - val_accuracy: 0.5013\n",
            "Epoch 8/100\n",
            "5/5 [==============================] - 0s 106ms/step - loss: 7.2435 - accuracy: 0.5250 - val_loss: 7.6056 - val_accuracy: 0.5013\n",
            "Epoch 9/100\n",
            "5/5 [==============================] - 0s 113ms/step - loss: 7.8153 - accuracy: 0.4875 - val_loss: 7.6056 - val_accuracy: 0.5013\n",
            "Epoch 10/100\n",
            "5/5 [==============================] - 0s 113ms/step - loss: 7.5293 - accuracy: 0.5063 - val_loss: 7.6056 - val_accuracy: 0.5013\n",
            "Epoch 11/100\n",
            "5/5 [==============================] - 1s 161ms/step - loss: 8.0059 - accuracy: 0.4750 - val_loss: 7.6056 - val_accuracy: 0.5013\n",
            "Epoch 12/100\n",
            "5/5 [==============================] - 0s 108ms/step - loss: 9.1496 - accuracy: 0.4000 - val_loss: 7.6056 - val_accuracy: 0.5013\n",
            "Epoch 13/100\n",
            "5/5 [==============================] - 0s 113ms/step - loss: 7.4340 - accuracy: 0.5125 - val_loss: 7.6056 - val_accuracy: 0.5013\n",
            "Epoch 14/100\n",
            "5/5 [==============================] - 1s 161ms/step - loss: 7.3387 - accuracy: 0.5188 - val_loss: 7.6056 - val_accuracy: 0.5013\n",
            "Epoch 15/100\n",
            "5/5 [==============================] - 0s 112ms/step - loss: 7.2434 - accuracy: 0.5250 - val_loss: 7.6056 - val_accuracy: 0.5013\n",
            "Epoch 16/100\n",
            "5/5 [==============================] - 0s 106ms/step - loss: 8.3871 - accuracy: 0.4500 - val_loss: 7.6056 - val_accuracy: 0.5013\n",
            "Epoch 17/100\n",
            "5/5 [==============================] - 1s 162ms/step - loss: 8.1965 - accuracy: 0.4625 - val_loss: 7.6056 - val_accuracy: 0.5013\n",
            "Epoch 18/100\n",
            "5/5 [==============================] - 1s 161ms/step - loss: 7.5293 - accuracy: 0.5063 - val_loss: 7.6056 - val_accuracy: 0.5013\n",
            "Epoch 19/100\n",
            "5/5 [==============================] - 1s 161ms/step - loss: 7.1481 - accuracy: 0.5312 - val_loss: 7.6056 - val_accuracy: 0.5013\n",
            "Epoch 20/100\n",
            "5/5 [==============================] - 0s 110ms/step - loss: 7.6246 - accuracy: 0.5000 - val_loss: 7.6056 - val_accuracy: 0.5013\n",
            "Epoch 21/100\n",
            "5/5 [==============================] - 0s 109ms/step - loss: 7.7199 - accuracy: 0.4938 - val_loss: 7.6056 - val_accuracy: 0.5013\n",
            "Epoch 22/100\n",
            "5/5 [==============================] - 0s 111ms/step - loss: 6.9575 - accuracy: 0.5437 - val_loss: 7.6056 - val_accuracy: 0.5013\n",
            "Epoch 23/100\n",
            "5/5 [==============================] - 0s 107ms/step - loss: 6.1950 - accuracy: 0.5938 - val_loss: 7.6056 - val_accuracy: 0.5013\n",
            "Epoch 24/100\n",
            "5/5 [==============================] - 1s 162ms/step - loss: 6.4809 - accuracy: 0.5750 - val_loss: 7.6056 - val_accuracy: 0.5013\n",
            "Epoch 25/100\n",
            "5/5 [==============================] - 0s 108ms/step - loss: 7.3387 - accuracy: 0.5188 - val_loss: 7.6056 - val_accuracy: 0.5013\n",
            "Epoch 26/100\n",
            "5/5 [==============================] - 0s 111ms/step - loss: 7.0528 - accuracy: 0.5375 - val_loss: 7.6056 - val_accuracy: 0.5013\n",
            "Epoch 27/100\n",
            "5/5 [==============================] - 1s 162ms/step - loss: 7.3387 - accuracy: 0.5188 - val_loss: 7.6056 - val_accuracy: 0.5013\n",
            "Epoch 28/100\n",
            "5/5 [==============================] - 1s 162ms/step - loss: 7.7199 - accuracy: 0.4938 - val_loss: 7.6056 - val_accuracy: 0.5013\n",
            "Epoch 29/100\n",
            "5/5 [==============================] - 1s 162ms/step - loss: 7.0528 - accuracy: 0.5375 - val_loss: 7.6056 - val_accuracy: 0.5013\n",
            "Epoch 30/100\n",
            "5/5 [==============================] - 0s 118ms/step - loss: 6.8622 - accuracy: 0.5500 - val_loss: 7.6056 - val_accuracy: 0.5013\n",
            "Epoch 31/100\n",
            "5/5 [==============================] - 1s 162ms/step - loss: 7.6246 - accuracy: 0.5000 - val_loss: 7.6056 - val_accuracy: 0.5013\n",
            "Epoch 32/100\n",
            "5/5 [==============================] - 0s 106ms/step - loss: 7.6246 - accuracy: 0.5000 - val_loss: 7.6056 - val_accuracy: 0.5013\n",
            "Epoch 33/100\n",
            "5/5 [==============================] - 1s 161ms/step - loss: 6.9575 - accuracy: 0.5437 - val_loss: 7.6056 - val_accuracy: 0.5013\n",
            "Epoch 34/100\n",
            "5/5 [==============================] - 1s 161ms/step - loss: 7.1481 - accuracy: 0.5312 - val_loss: 7.6056 - val_accuracy: 0.5013\n",
            "Epoch 35/100\n",
            "5/5 [==============================] - 0s 115ms/step - loss: 8.2918 - accuracy: 0.4563 - val_loss: 7.6056 - val_accuracy: 0.5013\n",
            "Epoch 36/100\n",
            "5/5 [==============================] - 0s 110ms/step - loss: 7.8152 - accuracy: 0.4875 - val_loss: 7.6056 - val_accuracy: 0.5013\n",
            "Epoch 37/100\n",
            "5/5 [==============================] - 1s 162ms/step - loss: 7.2434 - accuracy: 0.5250 - val_loss: 7.6056 - val_accuracy: 0.5013\n",
            "Epoch 38/100\n",
            "5/5 [==============================] - 1s 162ms/step - loss: 7.7199 - accuracy: 0.4938 - val_loss: 7.6056 - val_accuracy: 0.5013\n",
            "Epoch 39/100\n",
            "5/5 [==============================] - 1s 163ms/step - loss: 6.9575 - accuracy: 0.5437 - val_loss: 7.6056 - val_accuracy: 0.5013\n",
            "Epoch 40/100\n",
            "5/5 [==============================] - 0s 114ms/step - loss: 7.0528 - accuracy: 0.5375 - val_loss: 7.6056 - val_accuracy: 0.5013\n",
            "Epoch 41/100\n",
            "5/5 [==============================] - 1s 165ms/step - loss: 8.4824 - accuracy: 0.4437 - val_loss: 7.6056 - val_accuracy: 0.5013\n",
            "Epoch 42/100\n",
            "5/5 [==============================] - 1s 162ms/step - loss: 7.8152 - accuracy: 0.4875 - val_loss: 7.6056 - val_accuracy: 0.5013\n",
            "Epoch 43/100\n",
            "5/5 [==============================] - 1s 161ms/step - loss: 8.4824 - accuracy: 0.4437 - val_loss: 7.6056 - val_accuracy: 0.5013\n",
            "Epoch 44/100\n",
            "5/5 [==============================] - 0s 108ms/step - loss: 7.7199 - accuracy: 0.4938 - val_loss: 7.6056 - val_accuracy: 0.5013\n",
            "Epoch 45/100\n",
            "5/5 [==============================] - 0s 110ms/step - loss: 9.5308 - accuracy: 0.3750 - val_loss: 7.6056 - val_accuracy: 0.5013\n",
            "Epoch 46/100\n",
            "5/5 [==============================] - 1s 161ms/step - loss: 7.7199 - accuracy: 0.4938 - val_loss: 7.6056 - val_accuracy: 0.5013\n",
            "Epoch 47/100\n",
            "5/5 [==============================] - 1s 162ms/step - loss: 7.4340 - accuracy: 0.5125 - val_loss: 7.6056 - val_accuracy: 0.5013\n",
            "Epoch 48/100\n",
            "5/5 [==============================] - 0s 109ms/step - loss: 8.3871 - accuracy: 0.4500 - val_loss: 7.6056 - val_accuracy: 0.5013\n",
            "Epoch 49/100\n",
            "5/5 [==============================] - 1s 161ms/step - loss: 7.6246 - accuracy: 0.5000 - val_loss: 7.6056 - val_accuracy: 0.5013\n",
            "Epoch 50/100\n",
            "5/5 [==============================] - 0s 110ms/step - loss: 7.6246 - accuracy: 0.5000 - val_loss: 7.6056 - val_accuracy: 0.5013\n",
            "Epoch 51/100\n",
            "5/5 [==============================] - 1s 161ms/step - loss: 6.3856 - accuracy: 0.5813 - val_loss: 7.6056 - val_accuracy: 0.5013\n",
            "Epoch 52/100\n",
            "5/5 [==============================] - 1s 161ms/step - loss: 7.8152 - accuracy: 0.4875 - val_loss: 7.6056 - val_accuracy: 0.5013\n",
            "Epoch 53/100\n",
            "5/5 [==============================] - 0s 109ms/step - loss: 7.2434 - accuracy: 0.5250 - val_loss: 7.6056 - val_accuracy: 0.5013\n",
            "Epoch 54/100\n",
            "5/5 [==============================] - 1s 161ms/step - loss: 8.1965 - accuracy: 0.4625 - val_loss: 7.6056 - val_accuracy: 0.5013\n",
            "Epoch 55/100\n",
            "5/5 [==============================] - 1s 162ms/step - loss: 8.1965 - accuracy: 0.4625 - val_loss: 7.6056 - val_accuracy: 0.5013\n",
            "Epoch 56/100\n",
            "5/5 [==============================] - 0s 109ms/step - loss: 7.4340 - accuracy: 0.5125 - val_loss: 7.6056 - val_accuracy: 0.5013\n",
            "Epoch 57/100\n",
            "5/5 [==============================] - 1s 161ms/step - loss: 8.1965 - accuracy: 0.4625 - val_loss: 7.6056 - val_accuracy: 0.5013\n",
            "Epoch 58/100\n",
            "5/5 [==============================] - 0s 113ms/step - loss: 7.3387 - accuracy: 0.5188 - val_loss: 7.6056 - val_accuracy: 0.5013\n",
            "Epoch 59/100\n",
            "5/5 [==============================] - 1s 161ms/step - loss: 7.2434 - accuracy: 0.5250 - val_loss: 7.6056 - val_accuracy: 0.5013\n",
            "Epoch 60/100\n",
            "5/5 [==============================] - 1s 161ms/step - loss: 8.9589 - accuracy: 0.4125 - val_loss: 7.6056 - val_accuracy: 0.5013\n",
            "Epoch 61/100\n",
            "5/5 [==============================] - 0s 111ms/step - loss: 6.4809 - accuracy: 0.5750 - val_loss: 7.6056 - val_accuracy: 0.5013\n",
            "Epoch 62/100\n",
            "5/5 [==============================] - 0s 109ms/step - loss: 7.3387 - accuracy: 0.5188 - val_loss: 7.6056 - val_accuracy: 0.5013\n",
            "Epoch 63/100\n",
            "5/5 [==============================] - 1s 162ms/step - loss: 7.8152 - accuracy: 0.4875 - val_loss: 7.6056 - val_accuracy: 0.5013\n",
            "Epoch 64/100\n",
            "5/5 [==============================] - 1s 161ms/step - loss: 7.2434 - accuracy: 0.5250 - val_loss: 7.6056 - val_accuracy: 0.5013\n",
            "Epoch 65/100\n",
            "5/5 [==============================] - 1s 162ms/step - loss: 8.8636 - accuracy: 0.4187 - val_loss: 7.6056 - val_accuracy: 0.5013\n",
            "Epoch 66/100\n",
            "5/5 [==============================] - 1s 161ms/step - loss: 7.1481 - accuracy: 0.5312 - val_loss: 7.6056 - val_accuracy: 0.5013\n",
            "Epoch 67/100\n",
            "5/5 [==============================] - 0s 110ms/step - loss: 7.8152 - accuracy: 0.4875 - val_loss: 7.6056 - val_accuracy: 0.5013\n",
            "Epoch 68/100\n",
            "5/5 [==============================] - 1s 161ms/step - loss: 8.1965 - accuracy: 0.4625 - val_loss: 7.6056 - val_accuracy: 0.5013\n",
            "Epoch 69/100\n",
            "5/5 [==============================] - 1s 162ms/step - loss: 6.9575 - accuracy: 0.5437 - val_loss: 7.6056 - val_accuracy: 0.5013\n",
            "Epoch 70/100\n",
            "5/5 [==============================] - 1s 161ms/step - loss: 7.6246 - accuracy: 0.5000 - val_loss: 7.6056 - val_accuracy: 0.5013\n",
            "Epoch 71/100\n",
            "5/5 [==============================] - 1s 162ms/step - loss: 7.9105 - accuracy: 0.4812 - val_loss: 7.6056 - val_accuracy: 0.5013\n",
            "Epoch 72/100\n",
            "5/5 [==============================] - 0s 108ms/step - loss: 7.9105 - accuracy: 0.4812 - val_loss: 7.6056 - val_accuracy: 0.5013\n",
            "Epoch 73/100\n",
            "5/5 [==============================] - 1s 161ms/step - loss: 8.5777 - accuracy: 0.4375 - val_loss: 7.6056 - val_accuracy: 0.5013\n",
            "Epoch 74/100\n",
            "5/5 [==============================] - 1s 161ms/step - loss: 8.7683 - accuracy: 0.4250 - val_loss: 7.6056 - val_accuracy: 0.5013\n",
            "Epoch 75/100\n",
            "5/5 [==============================] - 1s 162ms/step - loss: 8.3871 - accuracy: 0.4500 - val_loss: 7.6056 - val_accuracy: 0.5013\n",
            "Epoch 76/100\n",
            "5/5 [==============================] - 0s 111ms/step - loss: 7.4340 - accuracy: 0.5125 - val_loss: 7.6056 - val_accuracy: 0.5013\n",
            "Epoch 77/100\n",
            "5/5 [==============================] - 0s 111ms/step - loss: 7.1481 - accuracy: 0.5312 - val_loss: 7.6056 - val_accuracy: 0.5013\n",
            "Epoch 78/100\n",
            "5/5 [==============================] - 0s 110ms/step - loss: 7.1481 - accuracy: 0.5312 - val_loss: 7.6056 - val_accuracy: 0.5013\n",
            "Epoch 79/100\n",
            "5/5 [==============================] - 0s 109ms/step - loss: 7.1481 - accuracy: 0.5312 - val_loss: 7.6056 - val_accuracy: 0.5013\n",
            "Epoch 80/100\n",
            "5/5 [==============================] - 0s 112ms/step - loss: 7.2434 - accuracy: 0.5250 - val_loss: 7.6056 - val_accuracy: 0.5013\n",
            "Epoch 81/100\n",
            "5/5 [==============================] - 0s 111ms/step - loss: 7.4340 - accuracy: 0.5125 - val_loss: 7.6056 - val_accuracy: 0.5013\n",
            "Epoch 82/100\n",
            "5/5 [==============================] - 1s 162ms/step - loss: 6.9575 - accuracy: 0.5437 - val_loss: 7.6056 - val_accuracy: 0.5013\n",
            "Epoch 83/100\n",
            "5/5 [==============================] - 1s 162ms/step - loss: 6.8622 - accuracy: 0.5500 - val_loss: 7.6056 - val_accuracy: 0.5013\n",
            "Epoch 84/100\n",
            "5/5 [==============================] - 1s 163ms/step - loss: 7.3387 - accuracy: 0.5188 - val_loss: 7.6056 - val_accuracy: 0.5013\n",
            "Epoch 85/100\n",
            "5/5 [==============================] - 0s 110ms/step - loss: 7.7199 - accuracy: 0.4938 - val_loss: 7.6056 - val_accuracy: 0.5013\n",
            "Epoch 86/100\n",
            "5/5 [==============================] - 0s 110ms/step - loss: 7.3387 - accuracy: 0.5188 - val_loss: 7.6056 - val_accuracy: 0.5013\n",
            "Epoch 87/100\n",
            "5/5 [==============================] - 0s 109ms/step - loss: 7.5293 - accuracy: 0.5063 - val_loss: 7.6056 - val_accuracy: 0.5013\n",
            "Epoch 88/100\n",
            "5/5 [==============================] - 1s 161ms/step - loss: 8.1965 - accuracy: 0.4625 - val_loss: 7.6056 - val_accuracy: 0.5013\n",
            "Epoch 89/100\n",
            "5/5 [==============================] - 0s 106ms/step - loss: 6.7668 - accuracy: 0.5562 - val_loss: 7.6056 - val_accuracy: 0.5013\n",
            "Epoch 90/100\n",
            "5/5 [==============================] - 1s 161ms/step - loss: 7.1481 - accuracy: 0.5312 - val_loss: 7.6056 - val_accuracy: 0.5013\n",
            "Epoch 91/100\n",
            "5/5 [==============================] - 1s 162ms/step - loss: 8.2918 - accuracy: 0.4563 - val_loss: 7.6056 - val_accuracy: 0.5013\n",
            "Epoch 92/100\n",
            "5/5 [==============================] - 1s 162ms/step - loss: 7.4340 - accuracy: 0.5125 - val_loss: 7.6056 - val_accuracy: 0.5013\n",
            "Epoch 93/100\n",
            "5/5 [==============================] - 0s 108ms/step - loss: 7.1481 - accuracy: 0.5312 - val_loss: 7.6056 - val_accuracy: 0.5013\n",
            "Epoch 94/100\n",
            "5/5 [==============================] - 1s 161ms/step - loss: 6.6715 - accuracy: 0.5625 - val_loss: 7.6056 - val_accuracy: 0.5013\n",
            "Epoch 95/100\n",
            "5/5 [==============================] - 0s 107ms/step - loss: 7.8152 - accuracy: 0.4875 - val_loss: 7.6056 - val_accuracy: 0.5013\n",
            "Epoch 96/100\n",
            "5/5 [==============================] - 0s 111ms/step - loss: 7.5293 - accuracy: 0.5063 - val_loss: 7.6056 - val_accuracy: 0.5013\n",
            "Epoch 97/100\n",
            "5/5 [==============================] - 1s 161ms/step - loss: 6.0997 - accuracy: 0.6000 - val_loss: 7.6056 - val_accuracy: 0.5013\n",
            "Epoch 98/100\n",
            "5/5 [==============================] - 1s 161ms/step - loss: 7.5293 - accuracy: 0.5063 - val_loss: 7.6056 - val_accuracy: 0.5013\n",
            "Epoch 99/100\n",
            "5/5 [==============================] - 1s 162ms/step - loss: 7.3387 - accuracy: 0.5188 - val_loss: 7.6056 - val_accuracy: 0.5013\n",
            "Epoch 100/100\n",
            "5/5 [==============================] - 0s 114ms/step - loss: 7.4340 - accuracy: 0.5125 - val_loss: 7.6056 - val_accuracy: 0.5013\n",
            "Model: \"sequential\"\n",
            "_________________________________________________________________\n",
            "Layer (type)                 Output Shape              Param #   \n",
            "=================================================================\n",
            "dense (Dense)                (32, 100)                 10100     \n",
            "_________________________________________________________________\n",
            "dense_1 (Dense)              (32, 1)                   101       \n",
            "=================================================================\n",
            "Total params: 10,201\n",
            "Trainable params: 10,201\n",
            "Non-trainable params: 0\n",
            "_________________________________________________________________\n"
          ],
          "name": "stdout"
        }
      ]
    },
    {
      "cell_type": "code",
      "metadata": {
        "id": "AKetIDX4U19h"
      },
      "source": [
        "def plot_history(history):\n",
        "    loss_list = [s for s in history.history.keys() if 'loss' in s and 'val' not in s]\n",
        "    val_loss_list = [s for s in history.history.keys() if 'loss' in s and 'val' in s]\n",
        "    acc_list = [s for s in history.history.keys() if 'acc' in s and 'val' not in s]\n",
        "    val_acc_list = [s for s in history.history.keys() if 'acc' in s and 'val' in s]\n",
        "    \n",
        "    if len(loss_list) == 0:\n",
        "        print('Loss N/A')\n",
        "        return \n",
        "    \n",
        "    ## As loss always exists\n",
        "    epochs = range(1,len(history.history[loss_list[0]]) + 1)\n",
        "    \n",
        "    ## Loss\n",
        "    plt.figure(1)\n",
        "    for l in loss_list:\n",
        "        plt.plot(epochs, history.history[l], 'b', label='Training loss (' + str(str(format(history.history[l][-1],'.5f'))+')'))\n",
        "    for l in val_loss_list:\n",
        "        plt.plot(epochs, history.history[l], 'g', label='Validation loss (' + str(str(format(history.history[l][-1],'.5f'))+')'))\n",
        "    \n",
        "    plt.title('Loss')\n",
        "    plt.xlabel('Epochs')\n",
        "    plt.ylabel('Loss')\n",
        "    plt.legend()\n",
        "    \n",
        "    ## Accuracy\n",
        "    plt.figure(2)\n",
        "    for l in acc_list:\n",
        "        plt.plot(epochs, history.history[l], 'b', label='Training accuracy (' + str(format(history.history[l][-1],'.5f'))+')')\n",
        "    for l in val_acc_list:    \n",
        "        plt.plot(epochs, history.history[l], 'g', label='Validation accuracy (' + str(format(history.history[l][-1],'.5f'))+')')\n",
        "\n",
        "    plt.title('Accuracy')\n",
        "    plt.xlabel('Epochs')\n",
        "    plt.ylabel('Accuracy')\n",
        "    plt.legend()\n",
        "    plt.show()"
      ],
      "execution_count": null,
      "outputs": []
    },
    {
      "cell_type": "code",
      "metadata": {
        "id": "PBRyicb3VAXW",
        "colab": {
          "base_uri": "https://localhost:8080/",
          "height": 573
        },
        "outputId": "78c2cf6a-6ecb-4846-a55f-21b872fba1ba"
      },
      "source": [
        "plot_history(history)"
      ],
      "execution_count": null,
      "outputs": [
        {
          "output_type": "display_data",
          "data": {
            "image/png": "[encoded data removed]",
            "text/plain": [
              "<Figure size 432x288 with 1 Axes>"
            ]
          },
          "metadata": {
            "needs_background": "light"
          }
        },
        {
          "output_type": "display_data",
          "data": {
            "image/png": "[encoded data removed]",
            "text/plain": [
              "<Figure size 432x288 with 1 Axes>"
            ]
          },
          "metadata": {
            "needs_background": "light"
          }
        }
      ]
    },
    {
      "cell_type": "code",
      "metadata": {
        "colab": {
          "base_uri": "https://localhost:8080/"
        },
        "id": "TEUBFZ1lvAZd",
        "outputId": "b9d4ca68-57d8-4b60-dd12-250fff1c8bde"
      },
      "source": [
        "# Model Evaluation\n",
        "test_loss, test_acc = model.evaluate(X_test,  Y_test, verbose=2)\n",
        "print('\\nTest accuracy:', test_acc)\n"
      ],
      "execution_count": null,
      "outputs": [
        {
          "output_type": "stream",
          "text": [
            "625/625 - 1s - loss: 7.5301 - accuracy: 0.5062\n",
            "\n",
            "Test accuracy: 0.5062000155448914\n"
          ],
          "name": "stdout"
        }
      ]
    },
    {
      "cell_type": "code",
      "metadata": {
        "colab": {
          "base_uri": "https://localhost:8080/"
        },
        "id": "YDjQUdHDXiwt",
        "outputId": "a6aa1ba8-5018-4a0b-b997-ffb9ee7314fa"
      },
      "source": [
        "l = len(dataset) # No of rows in dataset which will be use for the no iteration to prepare the text level graph\n",
        "p=2\n",
        "n = 0.05\n",
        "TG_w2v_Matrix_final1 = np.empty((0,100),dtype = np.float32) #Define the final Text Level W2V matrix after message passing agreegation. Which will be input feature matrix to ML model\n",
        "node_emb_total = np.zeros((1,100), dtype = np.float32)\n",
        "\n",
        "\n",
        "\n",
        "for i in range (0, l):\n",
        "  token = dataset_text[i].split()\n",
        "  node_emb_total = np.zeros((1,100), dtype = np.float32)\n",
        "  if (node_emb_total[node_emb_total > 1E3] is True):\n",
        "    print(node_emb_total[0])\n",
        "  node_emb_total[0] = node_emb_total[0] + text_level_graph(token,p,n)\n",
        "  \n",
        "  TG_w2v_Matrix_final1 = np.append(TG_w2v_Matrix_final1, node_emb_total, axis = 0)"
      ],
      "execution_count": null,
      "outputs": [
        {
          "output_type": "stream",
          "text": [
            "/usr/local/lib/python3.7/dist-packages/ipykernel_launcher.py:22: RuntimeWarning: invalid value encountered in add\n"
          ],
          "name": "stderr"
        }
      ]
    },
    {
      "cell_type": "code",
      "metadata": {
        "colab": {
          "base_uri": "https://localhost:8080/"
        },
        "id": "SoZ0uvO4Yj_H",
        "outputId": "2b213fb7-377d-4c44-9664-2791a7c265d9"
      },
      "source": [
        "TG_w2v_Matrix_final1.shape"
      ],
      "execution_count": null,
      "outputs": [
        {
          "output_type": "execute_result",
          "data": {
            "text/plain": [
              "(100000, 100)"
            ]
          },
          "metadata": {},
          "execution_count": 70
        }
      ]
    },
    {
      "cell_type": "code",
      "metadata": {
        "id": "e6JOyngddyPH"
      },
      "source": [
        "TG_w2v_Matrix_final1[TG_w2v_Matrix_final1 <= -1E308] = -1E20"
      ],
      "execution_count": null,
      "outputs": []
    },
    {
      "cell_type": "code",
      "metadata": {
        "id": "bQ2PkMnud2Dg"
      },
      "source": [
        "TG_w2v_Matrix_final1[TG_w2v_Matrix_final1 >= 1E50] = 1E20"
      ],
      "execution_count": null,
      "outputs": []
    },
    {
      "cell_type": "code",
      "metadata": {
        "colab": {
          "base_uri": "https://localhost:8080/"
        },
        "id": "FiIFoRQaeIJs",
        "outputId": "9e48e26a-910a-47b6-86a6-a485ff12f077"
      },
      "source": [
        "min_value = np.min(TG_w2v_Matrix_final1)\n",
        "print(min_value)\n",
        "max_value = np.max(TG_w2v_Matrix_final1)\n",
        "print(max_value)"
      ],
      "execution_count": null,
      "outputs": [
        {
          "output_type": "stream",
          "text": [
            "-1.21464e+27\n",
            "1.2818709e+38\n"
          ],
          "name": "stdout"
        }
      ]
    },
    {
      "cell_type": "code",
      "metadata": {
        "colab": {
          "base_uri": "https://localhost:8080/"
        },
        "id": "3ZX9uqh6cw5I",
        "outputId": "6e73769f-1459-4dcd-c315-144b0724e3c2"
      },
      "source": [
        "X_train1, X_test1, Y_train1, Y_test1 = train_test_split(TG_w2v_Matrix_final1, dataset_sentiment, test_size=0.2, random_state=37)\n",
        "print('# Train data samples:', X_train1.shape[0])\n",
        "print('# Test data samples:', X_test1.shape[0])\n",
        "X_data = TG_w2v_Matrix_final1\n",
        "Y_data = dataset_sentiment\n",
        "assert X_train1.shape[0] == Y_train1.shape[0]\n",
        "assert X_test1.shape[0] == Y_test1.shape[0]"
      ],
      "execution_count": null,
      "outputs": [
        {
          "output_type": "stream",
          "text": [
            "# Train data samples: 80000\n",
            "# Test data samples: 20000\n"
          ],
          "name": "stdout"
        }
      ]
    },
    {
      "cell_type": "code",
      "metadata": {
        "colab": {
          "base_uri": "https://localhost:8080/"
        },
        "id": "hZIvCLJxVQIw",
        "outputId": "e375ffd9-defe-42f2-8b41-ca9160113787"
      },
      "source": [
        "no_of_epcohs = 15\n",
        "gradient_batch_size = 32\n",
        "\n",
        "history1 = model.fit(X_train1, \n",
        "                    Y_train1,\n",
        "                    validation_split = 0.2,\n",
        "                    steps_per_epoch = 5,\n",
        "                    epochs= no_of_epcohs,\n",
        "                    batch_size=gradient_batch_size, verbose = 1)\n",
        "\n",
        "model.summary()"
      ],
      "execution_count": null,
      "outputs": [
        {
          "output_type": "stream",
          "text": [
            "Epoch 1/15\n",
            "5/5 [==============================] - 0s 108ms/step - loss: 6.3856 - accuracy: 0.5813 - val_loss: 7.6570 - val_accuracy: 0.4979\n",
            "Epoch 2/15\n",
            "5/5 [==============================] - 1s 161ms/step - loss: 7.4340 - accuracy: 0.5125 - val_loss: 7.6570 - val_accuracy: 0.4979\n",
            "Epoch 3/15\n",
            "5/5 [==============================] - 0s 103ms/step - loss: 7.6246 - accuracy: 0.5000 - val_loss: 7.6570 - val_accuracy: 0.4979\n",
            "Epoch 4/15\n",
            "5/5 [==============================] - 0s 107ms/step - loss: 6.8622 - accuracy: 0.5500 - val_loss: 7.6570 - val_accuracy: 0.4979\n",
            "Epoch 5/15\n",
            "5/5 [==============================] - 1s 161ms/step - loss: 7.9105 - accuracy: 0.4812 - val_loss: 7.6570 - val_accuracy: 0.4979\n",
            "Epoch 6/15\n",
            "5/5 [==============================] - 0s 100ms/step - loss: 8.2918 - accuracy: 0.4563 - val_loss: 7.6570 - val_accuracy: 0.4979\n",
            "Epoch 7/15\n",
            "5/5 [==============================] - 1s 162ms/step - loss: 7.1481 - accuracy: 0.5312 - val_loss: 7.6570 - val_accuracy: 0.4979\n",
            "Epoch 8/15\n",
            "5/5 [==============================] - 1s 161ms/step - loss: 7.6246 - accuracy: 0.5000 - val_loss: 7.6570 - val_accuracy: 0.4979\n",
            "Epoch 9/15\n",
            "5/5 [==============================] - 1s 161ms/step - loss: 8.7683 - accuracy: 0.4250 - val_loss: 7.6570 - val_accuracy: 0.4979\n",
            "Epoch 10/15\n",
            "5/5 [==============================] - 0s 103ms/step - loss: 6.5762 - accuracy: 0.5688 - val_loss: 7.6570 - val_accuracy: 0.4979\n",
            "Epoch 11/15\n",
            "5/5 [==============================] - 0s 107ms/step - loss: 7.5293 - accuracy: 0.5063 - val_loss: 7.6570 - val_accuracy: 0.4979\n",
            "Epoch 12/15\n",
            "5/5 [==============================] - 1s 162ms/step - loss: 8.0058 - accuracy: 0.4750 - val_loss: 7.6570 - val_accuracy: 0.4979\n",
            "Epoch 13/15\n",
            "5/5 [==============================] - 0s 109ms/step - loss: 7.3387 - accuracy: 0.5188 - val_loss: 7.6570 - val_accuracy: 0.4979\n",
            "Epoch 14/15\n",
            "5/5 [==============================] - 1s 161ms/step - loss: 7.3387 - accuracy: 0.5188 - val_loss: 7.6570 - val_accuracy: 0.4979\n",
            "Epoch 15/15\n",
            "5/5 [==============================] - 0s 104ms/step - loss: 7.9105 - accuracy: 0.4812 - val_loss: 7.6570 - val_accuracy: 0.4979\n",
            "Model: \"sequential\"\n",
            "_________________________________________________________________\n",
            "Layer (type)                 Output Shape              Param #   \n",
            "=================================================================\n",
            "dense (Dense)                (32, 100)                 10100     \n",
            "_________________________________________________________________\n",
            "dense_1 (Dense)              (32, 1)                   101       \n",
            "=================================================================\n",
            "Total params: 10,201\n",
            "Trainable params: 10,201\n",
            "Non-trainable params: 0\n",
            "_________________________________________________________________\n"
          ],
          "name": "stdout"
        }
      ]
    },
    {
      "cell_type": "code",
      "metadata": {
        "colab": {
          "base_uri": "https://localhost:8080/",
          "height": 573
        },
        "id": "12qVDIAEWdhs",
        "outputId": "a97580ee-905c-4eec-8341-efbfaba8e089"
      },
      "source": [
        "plot_history(history1)"
      ],
      "execution_count": null,
      "outputs": [
        {
          "output_type": "display_data",
          "data": {
            "image/png": "[encoded data removed]",
            "text/plain": [
              "<Figure size 432x288 with 1 Axes>"
            ]
          },
          "metadata": {
            "needs_background": "light"
          }
        },
        {
          "output_type": "display_data",
          "data": {
            "image/png": "[encoded data removed]",
            "text/plain": [
              "<Figure size 432x288 with 1 Axes>"
            ]
          },
          "metadata": {
            "needs_background": "light"
          }
        }
      ]
    },
    {
      "cell_type": "code",
      "metadata": {
        "colab": {
          "base_uri": "https://localhost:8080/"
        },
        "id": "mSaqQC7ouzu1",
        "outputId": "20a1559a-2e58-47c0-e5db-0a8f532c2737"
      },
      "source": [
        "# Model Evaluation\n",
        "test_loss, test_acc = model.evaluate(X_test1,  Y_test1, verbose=2)\n",
        "print('\\nTest accuracy:', test_acc)\n"
      ],
      "execution_count": null,
      "outputs": [
        {
          "output_type": "stream",
          "text": [
            "625/625 - 0s - loss: 7.7039 - accuracy: 0.4948\n",
            "\n",
            "Test accuracy: 0.49480000138282776\n"
          ],
          "name": "stdout"
        }
      ]
    },
    {
      "cell_type": "code",
      "metadata": {
        "id": "rHQcPOlHSNqF"
      },
      "source": [
        "#Model 2 with custom loss function\n",
        "model_2 = keras.Sequential()\n",
        "model_2.add(keras.layers.Dense(100, activation='relu', kernel_regularizer=keras.regularizers.l2(l=0.0001)))\n",
        "model_2.add(keras.layers.Dropout(0.5))\n",
        "model_2.add(keras.layers.Dense(50, activation='relu', kernel_regularizer=keras.regularizers.l2(l=0.0001)))\n",
        "\n",
        "model_2.add(keras.layers.Dense(1, activation='Softmax'))\n",
        "\n",
        "opt = Adam(learning_rate=0.01)\n",
        "\n",
        "model_2.compile(optimizer = opt, loss = cross_entropy_loss, metrics=['accuracy'])\n"
      ],
      "execution_count": null,
      "outputs": []
    },
    {
      "cell_type": "code",
      "metadata": {
        "id": "H7cIR4uuSpaT"
      },
      "source": [
        "# no_of_epcohs = 15\n",
        "# gradient_batch_size = 10\n",
        "\n",
        "# history2 = model.fit(TG_w2v_Matrix_final, \n",
        "#                     dataset_sentiment,\n",
        "#                     validation_split = 0.2,\n",
        "#                     steps_per_epoch = 5,\n",
        "#                     epochs= no_of_epcohs,\n",
        "#                     batch_size=gradient_batch_size, verbose = 1)"
      ],
      "execution_count": null,
      "outputs": []
    },
    {
      "cell_type": "code",
      "metadata": {
        "id": "jC0nkRQTVobP"
      },
      "source": [
        "#plot_history(history2)"
      ],
      "execution_count": null,
      "outputs": []
    },
    {
      "cell_type": "markdown",
      "metadata": {
        "id": "Qhl-1I73mbU7"
      },
      "source": [
        "Testing with n = 0.9"
      ]
    },
    {
      "cell_type": "code",
      "metadata": {
        "colab": {
          "base_uri": "https://localhost:8080/"
        },
        "id": "SvmNrlXTmTil",
        "outputId": "78c763cd-6342-463c-fb1e-14cf28222e3d"
      },
      "source": [
        "l = len(dataset) # No of rows in dataset which will be use for the no iteration to prepare the text level graph\n",
        "p=2\n",
        "n = 0.9\n",
        "TG_w2v_Matrix_final2 = np.empty((0,100),dtype = np.float32) #Define the final Text Level W2V matrix after message passing agreegation. Which will be input feature matrix to ML model\n",
        "node_emb_total = np.zeros((1,100), dtype = np.float32)\n",
        "\n",
        "\n",
        "\n",
        "for i in range (0, l):\n",
        "  token = dataset_text[i].split()\n",
        "  node_emb_total = np.zeros((1,100), dtype = np.float32)\n",
        "  if (node_emb_total[node_emb_total > 1E3] is True):\n",
        "    print(node_emb_total[0])\n",
        "  node_emb_total[0] = node_emb_total[0] + text_level_graph(token,p,n)\n",
        "  \n",
        "  TG_w2v_Matrix_final2 = np.append(TG_w2v_Matrix_final2, node_emb_total, axis = 0)"
      ],
      "execution_count": null,
      "outputs": [
        {
          "output_type": "stream",
          "text": [
            "/usr/local/lib/python3.7/dist-packages/ipykernel_launcher.py:22: RuntimeWarning: invalid value encountered in add\n"
          ],
          "name": "stderr"
        }
      ]
    },
    {
      "cell_type": "code",
      "metadata": {
        "colab": {
          "base_uri": "https://localhost:8080/"
        },
        "id": "3SfgKejMqHrx",
        "outputId": "0c12cf82-cf7a-49ea-fcd1-389aa004dc59"
      },
      "source": [
        "TG_w2v_Matrix_final2.shape"
      ],
      "execution_count": null,
      "outputs": [
        {
          "output_type": "execute_result",
          "data": {
            "text/plain": [
              "(100000, 100)"
            ]
          },
          "metadata": {},
          "execution_count": 82
        }
      ]
    },
    {
      "cell_type": "code",
      "metadata": {
        "colab": {
          "base_uri": "https://localhost:8080/"
        },
        "id": "tSwaVFoTqNQz",
        "outputId": "26614c6a-5e4e-498b-d8dd-e6785281031d"
      },
      "source": [
        "min_value = np.min(TG_w2v_Matrix_final2)\n",
        "print(min_value)\n",
        "max_value = np.max(TG_w2v_Matrix_final2)\n",
        "print(max_value)"
      ],
      "execution_count": null,
      "outputs": [
        {
          "output_type": "stream",
          "text": [
            "-inf\n",
            "inf\n"
          ],
          "name": "stdout"
        }
      ]
    },
    {
      "cell_type": "code",
      "metadata": {
        "id": "uFjqjEfDqT0v"
      },
      "source": [
        "TG_w2v_Matrix_final2[TG_w2v_Matrix_final2 <= -1E308] = -1E20"
      ],
      "execution_count": null,
      "outputs": []
    },
    {
      "cell_type": "code",
      "metadata": {
        "id": "zgMwOOCoqcVo"
      },
      "source": [
        "TG_w2v_Matrix_final2[TG_w2v_Matrix_final2 >= 1E50] = 1E20"
      ],
      "execution_count": null,
      "outputs": []
    },
    {
      "cell_type": "code",
      "metadata": {
        "colab": {
          "base_uri": "https://localhost:8080/"
        },
        "id": "ze0SJZgRqfah",
        "outputId": "c33f97f3-3683-4bd5-9f01-b598372c64a4"
      },
      "source": [
        "min_value = np.min(TG_w2v_Matrix_final2)\n",
        "print(min_value)\n",
        "max_value = np.max(TG_w2v_Matrix_final2)\n",
        "print(max_value)"
      ],
      "execution_count": null,
      "outputs": [
        {
          "output_type": "stream",
          "text": [
            "-1e+20\n",
            "3.421124e+37\n"
          ],
          "name": "stdout"
        }
      ]
    },
    {
      "cell_type": "code",
      "metadata": {
        "colab": {
          "base_uri": "https://localhost:8080/"
        },
        "id": "KWOtz9pWquUc",
        "outputId": "10d0141c-eea2-472a-9841-4894ec6c2ecd"
      },
      "source": [
        "X_train2, X_test2, Y_train2, Y_test2 = train_test_split(TG_w2v_Matrix_final2, dataset_sentiment, test_size=0.2, random_state=37)\n",
        "print('# Train data samples:', X_train2.shape[0])\n",
        "print('# Test data samples:', X_test2.shape[0])\n",
        "assert X_train2.shape[0] == Y_train2.shape[0]\n",
        "assert X_test2.shape[0] == Y_test2.shape[0]"
      ],
      "execution_count": null,
      "outputs": [
        {
          "output_type": "stream",
          "text": [
            "# Train data samples: 80000\n",
            "# Test data samples: 20000\n"
          ],
          "name": "stdout"
        }
      ]
    },
    {
      "cell_type": "code",
      "metadata": {
        "colab": {
          "base_uri": "https://localhost:8080/"
        },
        "id": "kYxq9tPqqgzB",
        "outputId": "593e9c57-99e9-4260-f37a-8d0b54248f5c"
      },
      "source": [
        "no_of_epcohs = 15\n",
        "gradient_batch_size = 32\n",
        "\n",
        "history3 = model.fit(X_train2, \n",
        "                    Y_train2,\n",
        "                    validation_split = 0.2,\n",
        "                    steps_per_epoch = 5,\n",
        "                    epochs= no_of_epcohs,\n",
        "                    batch_size=gradient_batch_size, verbose = 1)"
      ],
      "execution_count": null,
      "outputs": [
        {
          "output_type": "stream",
          "text": [
            "Epoch 1/15\n",
            "5/5 [==============================] - 1s 167ms/step - loss: 7.0528 - accuracy: 0.5375 - val_loss: 7.6570 - val_accuracy: 0.4979\n",
            "Epoch 2/15\n",
            "5/5 [==============================] - 0s 105ms/step - loss: 8.1012 - accuracy: 0.4688 - val_loss: 7.6570 - val_accuracy: 0.4979\n",
            "Epoch 3/15\n",
            "5/5 [==============================] - 0s 111ms/step - loss: 6.8622 - accuracy: 0.5500 - val_loss: 7.6570 - val_accuracy: 0.4979\n",
            "Epoch 4/15\n",
            "5/5 [==============================] - 1s 161ms/step - loss: 7.4340 - accuracy: 0.5125 - val_loss: 7.6570 - val_accuracy: 0.4979\n",
            "Epoch 5/15\n",
            "5/5 [==============================] - 0s 102ms/step - loss: 8.1012 - accuracy: 0.4688 - val_loss: 7.6570 - val_accuracy: 0.4979\n",
            "Epoch 6/15\n",
            "5/5 [==============================] - 0s 102ms/step - loss: 6.8622 - accuracy: 0.5500 - val_loss: 7.6570 - val_accuracy: 0.4979\n",
            "Epoch 7/15\n",
            "5/5 [==============================] - 1s 161ms/step - loss: 7.2434 - accuracy: 0.5250 - val_loss: 7.6570 - val_accuracy: 0.4979\n",
            "Epoch 8/15\n",
            "5/5 [==============================] - 1s 162ms/step - loss: 7.1481 - accuracy: 0.5312 - val_loss: 7.6570 - val_accuracy: 0.4979\n",
            "Epoch 9/15\n",
            "5/5 [==============================] - 0s 101ms/step - loss: 7.2434 - accuracy: 0.5250 - val_loss: 7.6570 - val_accuracy: 0.4979\n",
            "Epoch 10/15\n",
            "5/5 [==============================] - 1s 161ms/step - loss: 7.3387 - accuracy: 0.5188 - val_loss: 7.6570 - val_accuracy: 0.4979\n",
            "Epoch 11/15\n",
            "5/5 [==============================] - 1s 162ms/step - loss: 7.4340 - accuracy: 0.5125 - val_loss: 7.6570 - val_accuracy: 0.4979\n",
            "Epoch 12/15\n",
            "5/5 [==============================] - 1s 161ms/step - loss: 7.7199 - accuracy: 0.4938 - val_loss: 7.6570 - val_accuracy: 0.4979\n",
            "Epoch 13/15\n",
            "5/5 [==============================] - 1s 161ms/step - loss: 8.1012 - accuracy: 0.4688 - val_loss: 7.6570 - val_accuracy: 0.4979\n",
            "Epoch 14/15\n",
            "5/5 [==============================] - 0s 103ms/step - loss: 7.3387 - accuracy: 0.5188 - val_loss: 7.6570 - val_accuracy: 0.4979\n",
            "Epoch 15/15\n",
            "5/5 [==============================] - 1s 161ms/step - loss: 7.3387 - accuracy: 0.5188 - val_loss: 7.6570 - val_accuracy: 0.4979\n"
          ],
          "name": "stdout"
        }
      ]
    },
    {
      "cell_type": "code",
      "metadata": {
        "colab": {
          "base_uri": "https://localhost:8080/"
        },
        "id": "mUeSYzMLrdQI",
        "outputId": "ac9db645-feec-441d-860b-aa3c3563125d"
      },
      "source": [
        "# Model Evaluation\n",
        "test_loss, test_acc = model.evaluate(X_test2,  Y_test2, verbose=2)\n",
        "print('\\nTest accuracy:', test_acc)\n"
      ],
      "execution_count": null,
      "outputs": [
        {
          "output_type": "stream",
          "text": [
            "625/625 - 1s - loss: 7.7039 - accuracy: 0.4948\n",
            "\n",
            "Test accuracy: 0.49480000138282776\n"
          ],
          "name": "stdout"
        }
      ]
    },
    {
      "cell_type": "code",
      "metadata": {
        "colab": {
          "base_uri": "https://localhost:8080/",
          "height": 573
        },
        "id": "05KqNnfBwjrz",
        "outputId": "0db180d8-4a67-49da-f0cd-50e067a1e2a9"
      },
      "source": [
        "plot_history(history3)"
      ],
      "execution_count": null,
      "outputs": [
        {
          "output_type": "display_data",
          "data": {
            "image/png": "[encoded data removed]",
            "text/plain": [
              "<Figure size 432x288 with 1 Axes>"
            ]
          },
          "metadata": {
            "needs_background": "light"
          }
        },
        {
          "output_type": "display_data",
          "data": {
            "image/png": "[encoded data removed]",
            "text/plain": [
              "<Figure size 432x288 with 1 Axes>"
            ]
          },
          "metadata": {
            "needs_background": "light"
          }
        }
      ]
    }
  ]
}