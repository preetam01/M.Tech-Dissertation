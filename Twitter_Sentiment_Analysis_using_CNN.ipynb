{
  "nbformat": 4,
  "nbformat_minor": 0,
  "metadata": {
    "accelerator": "GPU",
    "colab": {
      "name": "Twitter Sentiment Analysis using CNN.ipynb",
      "provenance": [],
      "collapsed_sections": [],
      "include_colab_link": true
    },
    "kernelspec": {
      "display_name": "Python 3",
      "name": "python3"
    }
  },
  "cells": [
    {
      "cell_type": "markdown",
      "metadata": {
        "id": "view-in-github",
        "colab_type": "text"
      },
      "source": [
        "<a href=\"https://colab.research.google.com/github/preetam01/M.Tech-Dissertation/blob/main/Twitter_Sentiment_Analysis_using_CNN.ipynb\" target=\"_parent\"><img src=\"https://colab.research.google.com/assets/colab-badge.svg\" alt=\"Open In Colab\"/></a>"
      ]
    },
    {
      "cell_type": "markdown",
      "metadata": {
        "id": "4h8vgHcFx-at"
      },
      "source": [
        "# **# Twitter Sentiment Analysis**(Using CNN)"
      ]
    },
    {
      "cell_type": "markdown",
      "metadata": {
        "id": "wNSeFoTtfLtN"
      },
      "source": [
        "# **# 1. Import Libraries/Dataset**\n"
      ]
    },
    {
      "cell_type": "markdown",
      "metadata": {
        "id": "Qw1_7fO8HAT0"
      },
      "source": [
        ""
      ]
    },
    {
      "cell_type": "code",
      "metadata": {
        "id": "HFU742MMoxKS"
      },
      "source": [
        "# DataFrame\n",
        "import pandas as pd\n",
        "\n",
        "#Keras\n",
        "import tensorflow as tf\n",
        "from tensorflow import keras\n",
        "from tensorflow.keras import layers\n",
        "import tensorflow_hub as hub\n",
        "from tensorflow.keras.optimizers import Adam\n",
        "\n",
        "# Scikit-learn\n",
        "from sklearn.model_selection import train_test_split\n",
        "\n",
        "\n",
        "# Utility\n",
        "import re\n",
        "import numpy as np\n",
        "import matplotlib.pyplot as plt # Import matplotlib for data visualisation\n",
        "from sklearn.metrics import confusion_matrix\n"
      ],
      "execution_count": null,
      "outputs": []
    },
    {
      "cell_type": "code",
      "metadata": {
        "id": "6-6Zgneo51Rt"
      },
      "source": [
        "# DATASET\n",
        "DATASET_COLUMNS = [\"sentiment\", \"ids\", \"date\", \"flag\", \"user\", \"text\"]\n",
        "DATASET_ENCODING = \"ISO-8859-1\"\n",
        "\n",
        "\n",
        "# TEXT CLENAING\n",
        "TEXT_CLEANING_RE = \"@\\S+|https?:\\S+|http?:\\S|[^A-Za-z0-9]+\"\n"
      ],
      "execution_count": null,
      "outputs": []
    },
    {
      "cell_type": "markdown",
      "metadata": {
        "id": "aDboIN7xxwzI"
      },
      "source": [
        "**#. Import Data Set for Sentiment Analysis using Googe Drive (Below is the backup option in case kaggle API having issues to load data."
      ]
    },
    {
      "cell_type": "code",
      "metadata": {
        "id": "81RYU-OZ67Mm"
      },
      "source": [
        "# Code to read csv file into Colaboratory:\n",
        "# from google.colab import drive\n",
        "# drive.mount('/content/drive')"
      ],
      "execution_count": null,
      "outputs": []
    },
    {
      "cell_type": "code",
      "metadata": {
        "id": "4crASGZjyw0H"
      },
      "source": [
        "#dataset = pd.read_csv(r\"/content/drive/My Drive/Deep Learning/Kaggle Sentiment140.csv\",encoding =DATASET_ENCODING , names=DATASET_COLUMNS)"
      ],
      "execution_count": null,
      "outputs": []
    },
    {
      "cell_type": "markdown",
      "metadata": {
        "id": "FuXa-LT_yjjJ"
      },
      "source": [
        "**#. Import Data Set for Sentiment Analysis directly from Kaggle**"
      ]
    },
    {
      "cell_type": "code",
      "metadata": {
        "id": "OBkA55xzfKt0"
      },
      "source": [
        "!mkdir -p ~/.kaggle"
      ],
      "execution_count": null,
      "outputs": []
    },
    {
      "cell_type": "code",
      "metadata": {
        "colab": {
          "base_uri": "https://localhost:8080/"
        },
        "id": "H4FPdBVOhxRy",
        "outputId": "9f709253-d5cb-4511-9612-d07cefb6223d"
      },
      "source": [
        "!cp kaggle.json ~/.kaggle/"
      ],
      "execution_count": null,
      "outputs": [
        {
          "output_type": "stream",
          "text": [
            "cp: cannot stat 'kaggle.json': No such file or directory\n"
          ],
          "name": "stdout"
        }
      ]
    },
    {
      "cell_type": "code",
      "metadata": {
        "id": "uoo2URT9h2iq",
        "colab": {
          "base_uri": "https://localhost:8080/"
        },
        "outputId": "4eff0e13-2a43-43b7-ebcb-dc8934121730"
      },
      "source": [
        "!ls ~/.kaggle"
      ],
      "execution_count": null,
      "outputs": [
        {
          "output_type": "stream",
          "text": [
            "kaggle.json\n"
          ],
          "name": "stdout"
        }
      ]
    },
    {
      "cell_type": "code",
      "metadata": {
        "colab": {
          "base_uri": "https://localhost:8080/"
        },
        "id": "9gAUL51zfKFw",
        "outputId": "be7829dd-39d5-49a8-fa83-90cf48dead3a"
      },
      "source": [
        "!cp kaggle.json ~/.kaggle/"
      ],
      "execution_count": null,
      "outputs": [
        {
          "output_type": "stream",
          "text": [
            "cp: cannot stat 'kaggle.json': No such file or directory\n"
          ],
          "name": "stdout"
        }
      ]
    },
    {
      "cell_type": "code",
      "metadata": {
        "id": "_AxVrUbmiJRr"
      },
      "source": [
        "!chmod 600 /root/.kaggle/kaggle.json"
      ],
      "execution_count": null,
      "outputs": []
    },
    {
      "cell_type": "code",
      "metadata": {
        "id": "lOT4gxeoiRIL"
      },
      "source": [
        "!echo '{\"username\":\"preetamkumar\",\"key\":\"02e539250914c9fea2c057a45b87339b\"}' > /root/.kaggle/kaggle.json\n",
        "!chmod 600 /root/.kaggle/kaggle.json"
      ],
      "execution_count": null,
      "outputs": []
    },
    {
      "cell_type": "code",
      "metadata": {
        "colab": {
          "base_uri": "https://localhost:8080/"
        },
        "id": "bxtVThkqin4t",
        "outputId": "0a9747ed-4f66-43ed-c624-e5dda50431bf"
      },
      "source": [
        "!kaggle datasets download -d kazanova/sentiment140 -p /content"
      ],
      "execution_count": null,
      "outputs": [
        {
          "output_type": "stream",
          "text": [
            "sentiment140.zip: Skipping, found more recently modified local copy (use --force to force download)\n"
          ],
          "name": "stdout"
        }
      ]
    },
    {
      "cell_type": "code",
      "metadata": {
        "colab": {
          "base_uri": "https://localhost:8080/"
        },
        "id": "cLlXKrDoiiIz",
        "outputId": "3cc0099c-4b51-40ab-9b3d-6e1f1fd678f0"
      },
      "source": [
        "!unzip \\*.zip"
      ],
      "execution_count": null,
      "outputs": [
        {
          "output_type": "stream",
          "text": [
            "Archive:  sentiment140.zip\n",
            "replace training.1600000.processed.noemoticon.csv? [y]es, [n]o, [A]ll, [N]one, [r]ename: sentiment140.zip\n",
            "error:  invalid response [sentiment]\n",
            "replace training.1600000.processed.noemoticon.csv? [y]es, [n]o, [A]ll, [N]one, [r]ename: error:  invalid response [140.zip]\n",
            "replace training.1600000.processed.noemoticon.csv? [y]es, [n]o, [A]ll, [N]one, [r]ename: y\n",
            "  inflating: training.1600000.processed.noemoticon.csv  \n"
          ],
          "name": "stdout"
        }
      ]
    },
    {
      "cell_type": "code",
      "metadata": {
        "id": "PmrWH-Myit1a"
      },
      "source": [
        "dataset = pd.read_csv('training.1600000.processed.noemoticon.csv' , encoding =DATASET_ENCODING , names=DATASET_COLUMNS)"
      ],
      "execution_count": null,
      "outputs": []
    },
    {
      "cell_type": "code",
      "metadata": {
        "id": "vTMcDAKYp3Xg"
      },
      "source": [
        "df = dataset"
      ],
      "execution_count": null,
      "outputs": []
    },
    {
      "cell_type": "code",
      "metadata": {
        "colab": {
          "base_uri": "https://localhost:8080/"
        },
        "id": "3hNp9pEdpwv8",
        "outputId": "01df9049-e1eb-442b-86c1-cde674ead341"
      },
      "source": [
        "#Selecting a sample for the testing purpose\n",
        "df = df.sample(100000)\n",
        "df = df.reset_index(drop=True)\n",
        "dataset = df\n",
        "print(len(dataset))"
      ],
      "execution_count": null,
      "outputs": [
        {
          "output_type": "stream",
          "text": [
            "100000\n"
          ],
          "name": "stdout"
        }
      ]
    },
    {
      "cell_type": "code",
      "metadata": {
        "colab": {
          "base_uri": "https://localhost:8080/"
        },
        "id": "TQGqm4-u64eo",
        "outputId": "29e5867c-4097-42c8-dec2-06fc87b00188"
      },
      "source": [
        "print(len(dataset))"
      ],
      "execution_count": null,
      "outputs": [
        {
          "output_type": "stream",
          "text": [
            "100000\n"
          ],
          "name": "stdout"
        }
      ]
    },
    {
      "cell_type": "code",
      "metadata": {
        "colab": {
          "base_uri": "https://localhost:8080/",
          "height": 206
        },
        "id": "yQ4L1oYi64h6",
        "outputId": "ef5eee69-72d9-4ebe-d27f-3a64fbcc7199"
      },
      "source": [
        "dataset.head(5)"
      ],
      "execution_count": null,
      "outputs": [
        {
          "output_type": "execute_result",
          "data": {
            "text/html": [
              "<div>\n",
              "<style scoped>\n",
              "    .dataframe tbody tr th:only-of-type {\n",
              "        vertical-align: middle;\n",
              "    }\n",
              "\n",
              "    .dataframe tbody tr th {\n",
              "        vertical-align: top;\n",
              "    }\n",
              "\n",
              "    .dataframe thead th {\n",
              "        text-align: right;\n",
              "    }\n",
              "</style>\n",
              "<table border=\"1\" class=\"dataframe\">\n",
              "  <thead>\n",
              "    <tr style=\"text-align: right;\">\n",
              "      <th></th>\n",
              "      <th>sentiment</th>\n",
              "      <th>ids</th>\n",
              "      <th>date</th>\n",
              "      <th>flag</th>\n",
              "      <th>user</th>\n",
              "      <th>text</th>\n",
              "    </tr>\n",
              "  </thead>\n",
              "  <tbody>\n",
              "    <tr>\n",
              "      <th>0</th>\n",
              "      <td>0</td>\n",
              "      <td>2003834160</td>\n",
              "      <td>Tue Jun 02 07:13:36 PDT 2009</td>\n",
              "      <td>NO_QUERY</td>\n",
              "      <td>fudgecrumpet</td>\n",
              "      <td>@georgieboo i used to love atmosfear, but gem ...</td>\n",
              "    </tr>\n",
              "    <tr>\n",
              "      <th>1</th>\n",
              "      <td>0</td>\n",
              "      <td>1990063038</td>\n",
              "      <td>Mon Jun 01 03:45:30 PDT 2009</td>\n",
              "      <td>NO_QUERY</td>\n",
              "      <td>SarahMarie517</td>\n",
              "      <td>I am a lobster...seriously, got sooooo burned ...</td>\n",
              "    </tr>\n",
              "    <tr>\n",
              "      <th>2</th>\n",
              "      <td>0</td>\n",
              "      <td>1550683148</td>\n",
              "      <td>Sat Apr 18 06:56:05 PDT 2009</td>\n",
              "      <td>NO_QUERY</td>\n",
              "      <td>PLSED</td>\n",
              "      <td>Good morning. On my way to the funeral of a go...</td>\n",
              "    </tr>\n",
              "    <tr>\n",
              "      <th>3</th>\n",
              "      <td>0</td>\n",
              "      <td>1988739738</td>\n",
              "      <td>Sun May 31 23:14:02 PDT 2009</td>\n",
              "      <td>NO_QUERY</td>\n",
              "      <td>rl212007</td>\n",
              "      <td>is going to pretend to be storm chasing on Tue...</td>\n",
              "    </tr>\n",
              "    <tr>\n",
              "      <th>4</th>\n",
              "      <td>4</td>\n",
              "      <td>1981819096</td>\n",
              "      <td>Sun May 31 09:57:28 PDT 2009</td>\n",
              "      <td>NO_QUERY</td>\n",
              "      <td>singin_sunshine</td>\n",
              "      <td>i'm listening to ABBA    http://bit.ly/pYs8b</td>\n",
              "    </tr>\n",
              "  </tbody>\n",
              "</table>\n",
              "</div>"
            ],
            "text/plain": [
              "   sentiment  ...                                               text\n",
              "0          0  ...  @georgieboo i used to love atmosfear, but gem ...\n",
              "1          0  ...  I am a lobster...seriously, got sooooo burned ...\n",
              "2          0  ...  Good morning. On my way to the funeral of a go...\n",
              "3          0  ...  is going to pretend to be storm chasing on Tue...\n",
              "4          4  ...       i'm listening to ABBA    http://bit.ly/pYs8b\n",
              "\n",
              "[5 rows x 6 columns]"
            ]
          },
          "metadata": {},
          "execution_count": 73
        }
      ]
    },
    {
      "cell_type": "code",
      "metadata": {
        "id": "JDFws2Kc7LCu"
      },
      "source": [
        "# Removing the unnecessary columns.\n",
        "dataset = dataset.drop(columns = [\"ids\", \"date\", \"flag\", \"user\"])"
      ],
      "execution_count": null,
      "outputs": []
    },
    {
      "cell_type": "code",
      "metadata": {
        "colab": {
          "base_uri": "https://localhost:8080/",
          "height": 206
        },
        "id": "lfzO1auS7Q2l",
        "outputId": "e3a93955-dfe2-4f7b-e62b-1ece8fb9c83a"
      },
      "source": [
        "dataset.head(5)"
      ],
      "execution_count": null,
      "outputs": [
        {
          "output_type": "execute_result",
          "data": {
            "text/html": [
              "<div>\n",
              "<style scoped>\n",
              "    .dataframe tbody tr th:only-of-type {\n",
              "        vertical-align: middle;\n",
              "    }\n",
              "\n",
              "    .dataframe tbody tr th {\n",
              "        vertical-align: top;\n",
              "    }\n",
              "\n",
              "    .dataframe thead th {\n",
              "        text-align: right;\n",
              "    }\n",
              "</style>\n",
              "<table border=\"1\" class=\"dataframe\">\n",
              "  <thead>\n",
              "    <tr style=\"text-align: right;\">\n",
              "      <th></th>\n",
              "      <th>sentiment</th>\n",
              "      <th>text</th>\n",
              "    </tr>\n",
              "  </thead>\n",
              "  <tbody>\n",
              "    <tr>\n",
              "      <th>0</th>\n",
              "      <td>0</td>\n",
              "      <td>@georgieboo i used to love atmosfear, but gem ...</td>\n",
              "    </tr>\n",
              "    <tr>\n",
              "      <th>1</th>\n",
              "      <td>0</td>\n",
              "      <td>I am a lobster...seriously, got sooooo burned ...</td>\n",
              "    </tr>\n",
              "    <tr>\n",
              "      <th>2</th>\n",
              "      <td>0</td>\n",
              "      <td>Good morning. On my way to the funeral of a go...</td>\n",
              "    </tr>\n",
              "    <tr>\n",
              "      <th>3</th>\n",
              "      <td>0</td>\n",
              "      <td>is going to pretend to be storm chasing on Tue...</td>\n",
              "    </tr>\n",
              "    <tr>\n",
              "      <th>4</th>\n",
              "      <td>4</td>\n",
              "      <td>i'm listening to ABBA    http://bit.ly/pYs8b</td>\n",
              "    </tr>\n",
              "  </tbody>\n",
              "</table>\n",
              "</div>"
            ],
            "text/plain": [
              "   sentiment                                               text\n",
              "0          0  @georgieboo i used to love atmosfear, but gem ...\n",
              "1          0  I am a lobster...seriously, got sooooo burned ...\n",
              "2          0  Good morning. On my way to the funeral of a go...\n",
              "3          0  is going to pretend to be storm chasing on Tue...\n",
              "4          4       i'm listening to ABBA    http://bit.ly/pYs8b"
            ]
          },
          "metadata": {},
          "execution_count": 75
        }
      ]
    },
    {
      "cell_type": "markdown",
      "metadata": {
        "id": "FUV4z1R37YsI"
      },
      "source": [
        "# **# 2. Data Visualization**"
      ]
    },
    {
      "cell_type": "code",
      "metadata": {
        "colab": {
          "base_uri": "https://localhost:8080/",
          "height": 295
        },
        "id": "qsLdhp8t8A9Z",
        "outputId": "446da481-d0a5-4f33-ad30-03c422b35218"
      },
      "source": [
        "# Replacing the values to ease understanding.\n",
        "dataset['sentiment'] = dataset['sentiment'].replace(4,1)\n",
        "\n",
        "# Plotting the distribution for dataset.\n",
        "ax = dataset.groupby('sentiment').count().plot(kind='bar', title='Distribution of data',\n",
        "                                               legend=False)\n",
        "ax.set_xticklabels(['Negative','Positive'], rotation=0)\n",
        "\n",
        "# Storing data in lists.\n",
        "text, sentiment = list(dataset['text']), list(dataset['sentiment'])"
      ],
      "execution_count": null,
      "outputs": [
        {
          "output_type": "display_data",
          "data": {
            "image/png": "[encoded data removed]",
            "text/plain": [
              "<Figure size 432x288 with 1 Axes>"
            ]
          },
          "metadata": {
            "needs_background": "light"
          }
        }
      ]
    },
    {
      "cell_type": "code",
      "metadata": {
        "colab": {
          "base_uri": "https://localhost:8080/"
        },
        "id": "fkdhLxmoMZ7J",
        "outputId": "69e93c1e-5893-436a-baaa-7cf9bf1497fe"
      },
      "source": [
        "dataset.sentiment.unique()"
      ],
      "execution_count": null,
      "outputs": [
        {
          "output_type": "execute_result",
          "data": {
            "text/plain": [
              "array([0, 1])"
            ]
          },
          "metadata": {},
          "execution_count": 77
        }
      ]
    },
    {
      "cell_type": "code",
      "metadata": {
        "colab": {
          "base_uri": "https://localhost:8080/",
          "height": 143
        },
        "id": "D9EnEdCCMbHm",
        "outputId": "a9334e0e-10fa-4208-dcab-daf438844e0e"
      },
      "source": [
        "dataset.groupby('sentiment').nunique()"
      ],
      "execution_count": null,
      "outputs": [
        {
          "output_type": "execute_result",
          "data": {
            "text/html": [
              "<div>\n",
              "<style scoped>\n",
              "    .dataframe tbody tr th:only-of-type {\n",
              "        vertical-align: middle;\n",
              "    }\n",
              "\n",
              "    .dataframe tbody tr th {\n",
              "        vertical-align: top;\n",
              "    }\n",
              "\n",
              "    .dataframe thead th {\n",
              "        text-align: right;\n",
              "    }\n",
              "</style>\n",
              "<table border=\"1\" class=\"dataframe\">\n",
              "  <thead>\n",
              "    <tr style=\"text-align: right;\">\n",
              "      <th></th>\n",
              "      <th>text</th>\n",
              "    </tr>\n",
              "    <tr>\n",
              "      <th>sentiment</th>\n",
              "      <th></th>\n",
              "    </tr>\n",
              "  </thead>\n",
              "  <tbody>\n",
              "    <tr>\n",
              "      <th>0</th>\n",
              "      <td>49939</td>\n",
              "    </tr>\n",
              "    <tr>\n",
              "      <th>1</th>\n",
              "      <td>49816</td>\n",
              "    </tr>\n",
              "  </tbody>\n",
              "</table>\n",
              "</div>"
            ],
            "text/plain": [
              "            text\n",
              "sentiment       \n",
              "0          49939\n",
              "1          49816"
            ]
          },
          "metadata": {},
          "execution_count": 78
        }
      ]
    },
    {
      "cell_type": "code",
      "metadata": {
        "colab": {
          "base_uri": "https://localhost:8080/"
        },
        "id": "JAH04eId8Ffv",
        "outputId": "7351376d-d4ae-4cdd-8c41-fcb7580d99af"
      },
      "source": [
        "print (\"No of postive sentiment tweets:\")\n",
        "n_positive = len(dataset[dataset['sentiment'] == 1])\n",
        "print(n_positive)"
      ],
      "execution_count": null,
      "outputs": [
        {
          "output_type": "stream",
          "text": [
            "No of postive sentiment tweets:\n",
            "49907\n"
          ],
          "name": "stdout"
        }
      ]
    },
    {
      "cell_type": "code",
      "metadata": {
        "colab": {
          "base_uri": "https://localhost:8080/"
        },
        "id": "hdEm4E8l8J25",
        "outputId": "f5aad354-05ed-46c7-9159-89effa6d58e0"
      },
      "source": [
        "print (\"No of negative sentiment tweets:\")\n",
        "n_negative = len(dataset[dataset['sentiment'] == 0])\n",
        "print(n_negative)"
      ],
      "execution_count": null,
      "outputs": [
        {
          "output_type": "stream",
          "text": [
            "No of negative sentiment tweets:\n",
            "50093\n"
          ],
          "name": "stdout"
        }
      ]
    },
    {
      "cell_type": "code",
      "metadata": {
        "colab": {
          "base_uri": "https://localhost:8080/",
          "height": 223
        },
        "id": "wXjDhezp8Me_",
        "outputId": "4cccf6c5-23b9-406b-f91f-55f732eaa446"
      },
      "source": [
        "# Print at least 2 tweets from each class of data set for the sanity check that labels match the text\n",
        "# Print +ve reviws\n",
        "print('Print at least 2 tweets from positive sentiment:')\n",
        "dataset_pos = dataset[dataset['sentiment'] == 1]\n",
        "dataset_pos.head(5)"
      ],
      "execution_count": null,
      "outputs": [
        {
          "output_type": "stream",
          "text": [
            "Print at least 2 tweets from positive sentiment:\n"
          ],
          "name": "stdout"
        },
        {
          "output_type": "execute_result",
          "data": {
            "text/html": [
              "<div>\n",
              "<style scoped>\n",
              "    .dataframe tbody tr th:only-of-type {\n",
              "        vertical-align: middle;\n",
              "    }\n",
              "\n",
              "    .dataframe tbody tr th {\n",
              "        vertical-align: top;\n",
              "    }\n",
              "\n",
              "    .dataframe thead th {\n",
              "        text-align: right;\n",
              "    }\n",
              "</style>\n",
              "<table border=\"1\" class=\"dataframe\">\n",
              "  <thead>\n",
              "    <tr style=\"text-align: right;\">\n",
              "      <th></th>\n",
              "      <th>sentiment</th>\n",
              "      <th>text</th>\n",
              "    </tr>\n",
              "  </thead>\n",
              "  <tbody>\n",
              "    <tr>\n",
              "      <th>4</th>\n",
              "      <td>1</td>\n",
              "      <td>i'm listening to ABBA    http://bit.ly/pYs8b</td>\n",
              "    </tr>\n",
              "    <tr>\n",
              "      <th>6</th>\n",
              "      <td>1</td>\n",
              "      <td>@mileycyrus http://twitpic.com/3pf7v - wow coo...</td>\n",
              "    </tr>\n",
              "    <tr>\n",
              "      <th>7</th>\n",
              "      <td>1</td>\n",
              "      <td>google voice is nice for us #oldtimers from th...</td>\n",
              "    </tr>\n",
              "    <tr>\n",
              "      <th>10</th>\n",
              "      <td>1</td>\n",
              "      <td>@sasssy_thang Get 100 followers a day using ww...</td>\n",
              "    </tr>\n",
              "    <tr>\n",
              "      <th>13</th>\n",
              "      <td>1</td>\n",
              "      <td>@Amy_BabyGirl bye amy  don't work too hard</td>\n",
              "    </tr>\n",
              "  </tbody>\n",
              "</table>\n",
              "</div>"
            ],
            "text/plain": [
              "    sentiment                                               text\n",
              "4           1       i'm listening to ABBA    http://bit.ly/pYs8b\n",
              "6           1  @mileycyrus http://twitpic.com/3pf7v - wow coo...\n",
              "7           1  google voice is nice for us #oldtimers from th...\n",
              "10          1  @sasssy_thang Get 100 followers a day using ww...\n",
              "13          1         @Amy_BabyGirl bye amy  don't work too hard"
            ]
          },
          "metadata": {},
          "execution_count": 81
        }
      ]
    },
    {
      "cell_type": "code",
      "metadata": {
        "colab": {
          "base_uri": "https://localhost:8080/",
          "height": 223
        },
        "id": "La5OXE4j8PdS",
        "outputId": "e8c8eaaa-c160-4ac6-eafb-34b7477ccf22"
      },
      "source": [
        "# Print at least 2 tweets from each class of data set for the sanity check that labels match the text\n",
        "# Print -ve reviws\n",
        "print('Print at least 2 tweets from negative sentiment:')\n",
        "dataset_neg = dataset[dataset['sentiment'] == 0]\n",
        "dataset_neg.head(5)"
      ],
      "execution_count": null,
      "outputs": [
        {
          "output_type": "stream",
          "text": [
            "Print at least 2 tweets from negative sentiment:\n"
          ],
          "name": "stdout"
        },
        {
          "output_type": "execute_result",
          "data": {
            "text/html": [
              "<div>\n",
              "<style scoped>\n",
              "    .dataframe tbody tr th:only-of-type {\n",
              "        vertical-align: middle;\n",
              "    }\n",
              "\n",
              "    .dataframe tbody tr th {\n",
              "        vertical-align: top;\n",
              "    }\n",
              "\n",
              "    .dataframe thead th {\n",
              "        text-align: right;\n",
              "    }\n",
              "</style>\n",
              "<table border=\"1\" class=\"dataframe\">\n",
              "  <thead>\n",
              "    <tr style=\"text-align: right;\">\n",
              "      <th></th>\n",
              "      <th>sentiment</th>\n",
              "      <th>text</th>\n",
              "    </tr>\n",
              "  </thead>\n",
              "  <tbody>\n",
              "    <tr>\n",
              "      <th>0</th>\n",
              "      <td>0</td>\n",
              "      <td>@georgieboo i used to love atmosfear, but gem ...</td>\n",
              "    </tr>\n",
              "    <tr>\n",
              "      <th>1</th>\n",
              "      <td>0</td>\n",
              "      <td>I am a lobster...seriously, got sooooo burned ...</td>\n",
              "    </tr>\n",
              "    <tr>\n",
              "      <th>2</th>\n",
              "      <td>0</td>\n",
              "      <td>Good morning. On my way to the funeral of a go...</td>\n",
              "    </tr>\n",
              "    <tr>\n",
              "      <th>3</th>\n",
              "      <td>0</td>\n",
              "      <td>is going to pretend to be storm chasing on Tue...</td>\n",
              "    </tr>\n",
              "    <tr>\n",
              "      <th>5</th>\n",
              "      <td>0</td>\n",
              "      <td>Its not the same watching the cats play withou...</td>\n",
              "    </tr>\n",
              "  </tbody>\n",
              "</table>\n",
              "</div>"
            ],
            "text/plain": [
              "   sentiment                                               text\n",
              "0          0  @georgieboo i used to love atmosfear, but gem ...\n",
              "1          0  I am a lobster...seriously, got sooooo burned ...\n",
              "2          0  Good morning. On my way to the funeral of a go...\n",
              "3          0  is going to pretend to be storm chasing on Tue...\n",
              "5          0  Its not the same watching the cats play withou..."
            ]
          },
          "metadata": {},
          "execution_count": 82
        }
      ]
    },
    {
      "cell_type": "markdown",
      "metadata": {
        "id": "avTwHNUJ8XCZ"
      },
      "source": [
        "# **#3. Data Pre-processing**"
      ]
    },
    {
      "cell_type": "code",
      "metadata": {
        "id": "qSZBL_y28ZhR"
      },
      "source": [
        "# Defining dictionary containing all emojis with their meanings.\n",
        "emojis = {':)': 'smile', ':-)': 'smile', ';d': 'wink', ':-E': 'vampire', ':(': 'sad', \n",
        "          ':-(': 'sad', ':-<': 'sad', ':P': 'raspberry', ':O': 'surprised',\n",
        "          ':-@': 'shocked', ':@': 'shocked',':-$': 'confused', ':\\\\': 'annoyed', \n",
        "          ':#': 'mute', ':X': 'mute', ':^)': 'smile', ':-&': 'confused', '$_$': 'greedy',\n",
        "          '@@': 'eyeroll', ':-!': 'confused', ':-D': 'smile', ':-0': 'yell', 'O.o': 'confused',\n",
        "          '<(-_-)>': 'robot', 'd[-_-]b': 'dj', \":'-)\": 'sadsmile', ';)': 'wink', \n",
        "          ';-)': 'wink', 'O:-)': 'angel','O*-)': 'angel','(:-D': 'gossip', '=^.^=': 'cat'}\n"
      ],
      "execution_count": null,
      "outputs": []
    },
    {
      "cell_type": "code",
      "metadata": {
        "id": "Tj0vTDm38gCg"
      },
      "source": [
        "#Removing Twitter Handles(@user)\n",
        "#User Defined function to remove patten\n",
        "#Removing Twitter Handles(@user)\n",
        "#User Defined function to remove patten\n",
        "#Removing Emojis\n",
        "\n",
        "def preprocess(tweet):\n",
        "    # Defining regex patterns.\n",
        "    urlPattern        = r\"((http://)[^ ]*|(https://)[^ ]*|( www\\.)[^ ]*)\"\n",
        "    userPattern       = '@[^\\s]+'\n",
        "    alphaPattern      = \"[^a-zA-Z0-9]\"\n",
        "    sequencePattern   = r\"(.)\\1\\1+\"\n",
        "        \n",
        "                  \n",
        "    # Replace all URls with 'URL'\n",
        "    tweet = re.sub(urlPattern,' URL',tweet)\n",
        "     # Replace all emojis.\n",
        "    for emoji in emojis.keys():\n",
        "        tweet = tweet.replace(emoji, \"EMOJI\" + emojis[emoji])        \n",
        "    # Replace @USERNAME to 'USER'.\n",
        "    tweet = re.sub(userPattern,' USER', tweet)        \n",
        "    # Replace all non alphabets.\n",
        "    tweet = re.sub(alphaPattern, \" \", tweet)\n",
        "    \n",
        "    return tweet"
      ],
      "execution_count": null,
      "outputs": []
    },
    {
      "cell_type": "code",
      "metadata": {
        "id": "FbhFhw8r8heU"
      },
      "source": [
        "dataset['text'] = dataset['text'].apply(preprocess)"
      ],
      "execution_count": null,
      "outputs": []
    },
    {
      "cell_type": "code",
      "metadata": {
        "id": "hL7AEGtH81JS",
        "colab": {
          "base_uri": "https://localhost:8080/",
          "height": 206
        },
        "outputId": "516c0c7e-18c3-4807-bb22-8093643bfded"
      },
      "source": [
        "dataset1 = dataset\n",
        "dataset.head(5)\n"
      ],
      "execution_count": null,
      "outputs": [
        {
          "output_type": "execute_result",
          "data": {
            "text/html": [
              "<div>\n",
              "<style scoped>\n",
              "    .dataframe tbody tr th:only-of-type {\n",
              "        vertical-align: middle;\n",
              "    }\n",
              "\n",
              "    .dataframe tbody tr th {\n",
              "        vertical-align: top;\n",
              "    }\n",
              "\n",
              "    .dataframe thead th {\n",
              "        text-align: right;\n",
              "    }\n",
              "</style>\n",
              "<table border=\"1\" class=\"dataframe\">\n",
              "  <thead>\n",
              "    <tr style=\"text-align: right;\">\n",
              "      <th></th>\n",
              "      <th>sentiment</th>\n",
              "      <th>text</th>\n",
              "    </tr>\n",
              "  </thead>\n",
              "  <tbody>\n",
              "    <tr>\n",
              "      <th>0</th>\n",
              "      <td>0</td>\n",
              "      <td>USER i used to love atmosfear  but gem says i...</td>\n",
              "    </tr>\n",
              "    <tr>\n",
              "      <th>1</th>\n",
              "      <td>0</td>\n",
              "      <td>I am a lobster   seriously  got sooooo burned ...</td>\n",
              "    </tr>\n",
              "    <tr>\n",
              "      <th>2</th>\n",
              "      <td>0</td>\n",
              "      <td>Good morning  On my way to the funeral of a go...</td>\n",
              "    </tr>\n",
              "    <tr>\n",
              "      <th>3</th>\n",
              "      <td>0</td>\n",
              "      <td>is going to pretend to be storm chasing on Tue...</td>\n",
              "    </tr>\n",
              "    <tr>\n",
              "      <th>4</th>\n",
              "      <td>1</td>\n",
              "      <td>i m listening to ABBA     URL</td>\n",
              "    </tr>\n",
              "  </tbody>\n",
              "</table>\n",
              "</div>"
            ],
            "text/plain": [
              "   sentiment                                               text\n",
              "0          0   USER i used to love atmosfear  but gem says i...\n",
              "1          0  I am a lobster   seriously  got sooooo burned ...\n",
              "2          0  Good morning  On my way to the funeral of a go...\n",
              "3          0  is going to pretend to be storm chasing on Tue...\n",
              "4          1                      i m listening to ABBA     URL"
            ]
          },
          "metadata": {},
          "execution_count": 86
        }
      ]
    },
    {
      "cell_type": "code",
      "metadata": {
        "id": "c62rZtViaOxv"
      },
      "source": [
        "def preprocess_2(tweet):\n",
        "      sequencePattern   = r\"(.)\\1\\1+\"\n",
        "      tweet = re.sub('www',' ', tweet)   \n",
        "      tweet = re.sub('WWW',' ', tweet)\n",
        "      tweet = re.sub('USER',' ', tweet)\n",
        "      tweet = re.sub('user',' ', tweet)\n",
        "      tweet = re.sub('URL',' ', tweet)\n",
        "      tweet = re.sub('url',' ', tweet)    \n",
        "       # Replace 3 or more consecutive letters by ' '.\n",
        "      tweet = re.sub(sequencePattern,' ',  tweet)\n",
        "      return tweet"
      ],
      "execution_count": null,
      "outputs": []
    },
    {
      "cell_type": "code",
      "metadata": {
        "id": "I0GuCkQtciT1"
      },
      "source": [
        "dataset['text'] = dataset['text'].apply(preprocess_2)"
      ],
      "execution_count": null,
      "outputs": []
    },
    {
      "cell_type": "code",
      "metadata": {
        "id": "Xm0W_YeZcoDV",
        "colab": {
          "base_uri": "https://localhost:8080/",
          "height": 206
        },
        "outputId": "ee7354e0-c9b6-43fb-e8e8-905467b97b0f"
      },
      "source": [
        "dataset.head(5)"
      ],
      "execution_count": null,
      "outputs": [
        {
          "output_type": "execute_result",
          "data": {
            "text/html": [
              "<div>\n",
              "<style scoped>\n",
              "    .dataframe tbody tr th:only-of-type {\n",
              "        vertical-align: middle;\n",
              "    }\n",
              "\n",
              "    .dataframe tbody tr th {\n",
              "        vertical-align: top;\n",
              "    }\n",
              "\n",
              "    .dataframe thead th {\n",
              "        text-align: right;\n",
              "    }\n",
              "</style>\n",
              "<table border=\"1\" class=\"dataframe\">\n",
              "  <thead>\n",
              "    <tr style=\"text-align: right;\">\n",
              "      <th></th>\n",
              "      <th>sentiment</th>\n",
              "      <th>text</th>\n",
              "    </tr>\n",
              "  </thead>\n",
              "  <tbody>\n",
              "    <tr>\n",
              "      <th>0</th>\n",
              "      <td>0</td>\n",
              "      <td>i used to love atmosfear  but gem says i m no...</td>\n",
              "    </tr>\n",
              "    <tr>\n",
              "      <th>1</th>\n",
              "      <td>0</td>\n",
              "      <td>I am a lobster seriously  got s  burned today ...</td>\n",
              "    </tr>\n",
              "    <tr>\n",
              "      <th>2</th>\n",
              "      <td>0</td>\n",
              "      <td>Good morning  On my way to the funeral of a go...</td>\n",
              "    </tr>\n",
              "    <tr>\n",
              "      <th>3</th>\n",
              "      <td>0</td>\n",
              "      <td>is going to pretend to be storm chasing on Tue...</td>\n",
              "    </tr>\n",
              "    <tr>\n",
              "      <th>4</th>\n",
              "      <td>1</td>\n",
              "      <td>i m listening to ABBA</td>\n",
              "    </tr>\n",
              "  </tbody>\n",
              "</table>\n",
              "</div>"
            ],
            "text/plain": [
              "   sentiment                                               text\n",
              "0          0   i used to love atmosfear  but gem says i m no...\n",
              "1          0  I am a lobster seriously  got s  burned today ...\n",
              "2          0  Good morning  On my way to the funeral of a go...\n",
              "3          0  is going to pretend to be storm chasing on Tue...\n",
              "4          1                             i m listening to ABBA "
            ]
          },
          "metadata": {},
          "execution_count": 89
        }
      ]
    },
    {
      "cell_type": "markdown",
      "metadata": {
        "id": "Ln2QNClzhS77"
      },
      "source": [
        "#**#4.Model Building**\n"
      ]
    },
    {
      "cell_type": "code",
      "metadata": {
        "id": "LG9pK-_7WBg1",
        "colab": {
          "base_uri": "https://localhost:8080/"
        },
        "outputId": "316ac9f0-6eb1-4b3f-dcb6-d0ce84935a99"
      },
      "source": [
        "X_train, X_test, y_train, y_test = train_test_split(dataset.text, dataset.sentiment, test_size=0.2, random_state=37)\n",
        "print('# Train data samples:', X_train.shape[0])\n",
        "print('# Test data samples:', X_test.shape[0])\n",
        "assert X_train.shape[0] == y_train.shape[0]\n",
        "assert X_test.shape[0] == y_test.shape[0]"
      ],
      "execution_count": null,
      "outputs": [
        {
          "output_type": "stream",
          "text": [
            "# Train data samples: 80000\n",
            "# Test data samples: 20000\n"
          ],
          "name": "stdout"
        }
      ]
    },
    {
      "cell_type": "code",
      "metadata": {
        "id": "BD-log_fWpxp",
        "colab": {
          "base_uri": "https://localhost:8080/"
        },
        "outputId": "da778ab5-b32f-41cc-fb90-3c5fa21a58ec"
      },
      "source": [
        "#Print the head to check the X_train dataset\n",
        "X_train.head(5)"
      ],
      "execution_count": null,
      "outputs": [
        {
          "output_type": "execute_result",
          "data": {
            "text/plain": [
              "45029    After 2 years  found out that I have a small s...\n",
              "97602              My cooking can t compete with pancakes \n",
              "68872    is back from dominican republic  and is now mi...\n",
              "28951    home  exhausted  but was great to see and this...\n",
              "98026     I know  I watched that a couple if nights ago...\n",
              "Name: text, dtype: object"
            ]
          },
          "metadata": {},
          "execution_count": 91
        }
      ]
    },
    {
      "cell_type": "markdown",
      "metadata": {
        "id": "m6zNHlhNQtG3"
      },
      "source": [
        "> a) Sequential Model Layer - Use of 3 dense layers with appropriate input for each. \n"
      ]
    },
    {
      "cell_type": "code",
      "metadata": {
        "id": "XucP8O3XbGI9",
        "colab": {
          "base_uri": "https://localhost:8080/"
        },
        "outputId": "cc693e9c-3b60-423b-b740-655ceac2818f"
      },
      "source": [
        "hub_layer = hub.KerasLayer(\"https://tfhub.dev/google/nnlm-en-dim128/2\", output_shape=[128], \n",
        "                           input_shape=[], dtype=tf.string)\n",
        "model_1 = keras.Sequential()\n",
        "model_1.add(hub_layer)\n",
        "model_1.add(keras.layers.Dense(512, activation='relu', kernel_regularizer=keras.regularizers.l2(l=0.0001)))\n",
        "model_1.add(keras.layers.Dropout(0.5))\n",
        "model_1.add(keras.layers.Dense(256, activation='relu', kernel_regularizer=keras.regularizers.l2(l=0.0001)))\n",
        "\n",
        "model_1.add(keras.layers.Dense(1, activation='sigmoid'))\n",
        "\n",
        "model_1.summary()"
      ],
      "execution_count": null,
      "outputs": [
        {
          "output_type": "stream",
          "text": [
            "Model: \"sequential_3\"\n",
            "_________________________________________________________________\n",
            "Layer (type)                 Output Shape              Param #   \n",
            "=================================================================\n",
            "keras_layer_3 (KerasLayer)   (None, 128)               124642688 \n",
            "_________________________________________________________________\n",
            "dense_9 (Dense)              (None, 512)               66048     \n",
            "_________________________________________________________________\n",
            "dropout_3 (Dropout)          (None, 512)               0         \n",
            "_________________________________________________________________\n",
            "dense_10 (Dense)             (None, 256)               131328    \n",
            "_________________________________________________________________\n",
            "dense_11 (Dense)             (None, 1)                 257       \n",
            "=================================================================\n",
            "Total params: 124,840,321\n",
            "Trainable params: 197,633\n",
            "Non-trainable params: 124,642,688\n",
            "_________________________________________________________________\n"
          ],
          "name": "stdout"
        }
      ]
    },
    {
      "cell_type": "markdown",
      "metadata": {
        "id": "CCck8_nW23MV"
      },
      "source": [
        "#**#5.Model Compilation**"
      ]
    },
    {
      "cell_type": "code",
      "metadata": {
        "id": "L8iXUOCwgOdW",
        "colab": {
          "base_uri": "https://localhost:8080/"
        },
        "outputId": "ce4f9727-6407-4736-b5e7-5a030d720e56"
      },
      "source": [
        "# a) Compile the model with appropriate loss function \n",
        "### lost function used : BinaryCrossentropy \n",
        "# b) Use an appropriate optimizer. - \"Adam\" optimizer is used so that Adam combines the \n",
        "#    best properties of the AdaGrad and RMSProp algorithms to provide an optimization algorithm that can handle sparse gradients and no need\n",
        "#    to define learning rate manually.\n",
        "\n",
        "opt = Adam(lr=0.01)\n",
        "model_1.compile(optimizer = opt, loss ='binary_crossentropy', metrics=['accuracy'])\n"
      ],
      "execution_count": null,
      "outputs": [
        {
          "output_type": "stream",
          "text": [
            "/usr/local/lib/python3.7/dist-packages/keras/optimizer_v2/optimizer_v2.py:356: UserWarning: The `lr` argument is deprecated, use `learning_rate` instead.\n",
            "  \"The `lr` argument is deprecated, use `learning_rate` instead.\")\n"
          ],
          "name": "stderr"
        }
      ]
    },
    {
      "cell_type": "markdown",
      "metadata": {
        "id": "IpU1NYxs3CB_"
      },
      "source": [
        "#**#6.Model Training**"
      ]
    },
    {
      "cell_type": "code",
      "metadata": {
        "colab": {
          "base_uri": "https://localhost:8080/"
        },
        "id": "19qGxC5ej07M",
        "outputId": "074b4183-9091-4f59-eba2-8f482f745b7f"
      },
      "source": [
        "no_of_epcohs = 15\n",
        "gradient_batch_size = 128\n",
        "\n",
        "history1 = model_1.fit(X_train, \n",
        "                   y_train,\n",
        "                   validation_split = 0.2,\n",
        "                   steps_per_epoch = 5,\n",
        "                   epochs=no_of_epcohs,\n",
        "                   batch_size=gradient_batch_size, verbose = 1)"
      ],
      "execution_count": null,
      "outputs": [
        {
          "output_type": "stream",
          "text": [
            "Epoch 1/15\n",
            "5/5 [==============================] - 1s 132ms/step - loss: 0.7830 - accuracy: 0.5188 - val_loss: 0.7589 - val_accuracy: 0.5039\n",
            "Epoch 2/15\n",
            "5/5 [==============================] - 0s 89ms/step - loss: 0.7052 - accuracy: 0.5844 - val_loss: 0.6812 - val_accuracy: 0.6611\n",
            "Epoch 3/15\n",
            "5/5 [==============================] - 1s 165ms/step - loss: 0.6739 - accuracy: 0.6625 - val_loss: 0.6473 - val_accuracy: 0.6895\n",
            "Epoch 4/15\n",
            "5/5 [==============================] - 0s 90ms/step - loss: 0.6803 - accuracy: 0.6594 - val_loss: 0.6447 - val_accuracy: 0.6932\n",
            "Epoch 5/15\n",
            "5/5 [==============================] - 1s 164ms/step - loss: 0.6295 - accuracy: 0.7156 - val_loss: 0.6339 - val_accuracy: 0.6933\n",
            "Epoch 6/15\n",
            "5/5 [==============================] - 0s 91ms/step - loss: 0.6230 - accuracy: 0.6938 - val_loss: 0.6220 - val_accuracy: 0.6988\n",
            "Epoch 7/15\n",
            "5/5 [==============================] - 0s 91ms/step - loss: 0.6432 - accuracy: 0.6859 - val_loss: 0.6183 - val_accuracy: 0.7056\n",
            "Epoch 8/15\n",
            "5/5 [==============================] - 0s 89ms/step - loss: 0.6071 - accuracy: 0.7172 - val_loss: 0.6122 - val_accuracy: 0.7063\n",
            "Epoch 9/15\n",
            "5/5 [==============================] - 1s 164ms/step - loss: 0.6016 - accuracy: 0.7172 - val_loss: 0.6198 - val_accuracy: 0.7053\n",
            "Epoch 10/15\n",
            "5/5 [==============================] - 0s 90ms/step - loss: 0.6280 - accuracy: 0.7000 - val_loss: 0.6543 - val_accuracy: 0.6753\n",
            "Epoch 11/15\n",
            "5/5 [==============================] - 1s 164ms/step - loss: 0.6167 - accuracy: 0.7078 - val_loss: 0.6142 - val_accuracy: 0.7026\n",
            "Epoch 12/15\n",
            "5/5 [==============================] - 0s 95ms/step - loss: 0.6135 - accuracy: 0.7203 - val_loss: 0.6075 - val_accuracy: 0.7069\n",
            "Epoch 13/15\n",
            "5/5 [==============================] - 0s 91ms/step - loss: 0.6221 - accuracy: 0.6938 - val_loss: 0.6009 - val_accuracy: 0.7069\n",
            "Epoch 14/15\n",
            "5/5 [==============================] - 0s 84ms/step - loss: 0.6103 - accuracy: 0.7219 - val_loss: 0.6082 - val_accuracy: 0.6924\n",
            "Epoch 15/15\n",
            "5/5 [==============================] - 0s 88ms/step - loss: 0.6113 - accuracy: 0.6922 - val_loss: 0.6134 - val_accuracy: 0.7019\n"
          ],
          "name": "stdout"
        }
      ]
    },
    {
      "cell_type": "code",
      "metadata": {
        "id": "cktz3vHvB4b8"
      },
      "source": [
        "\n",
        "def plot_history(history):\n",
        "    loss_list = [s for s in history.history.keys() if 'loss' in s and 'val' not in s]\n",
        "    val_loss_list = [s for s in history.history.keys() if 'loss' in s and 'val' in s]\n",
        "    acc_list = [s for s in history.history.keys() if 'acc' in s and 'val' not in s]\n",
        "    val_acc_list = [s for s in history.history.keys() if 'acc' in s and 'val' in s]\n",
        "    \n",
        "    if len(loss_list) == 0:\n",
        "        print('Loss N/A')\n",
        "        return \n",
        "    \n",
        "    ## As loss always exists\n",
        "    epochs = range(1,len(history.history[loss_list[0]]) + 1)\n",
        "    \n",
        "    ## Loss\n",
        "    plt.figure(1)\n",
        "    for l in loss_list:\n",
        "        plt.plot(epochs, history.history[l], 'b', label='Training loss (' + str(str(format(history.history[l][-1],'.5f'))+')'))\n",
        "    for l in val_loss_list:\n",
        "        plt.plot(epochs, history.history[l], 'g', label='Validation loss (' + str(str(format(history.history[l][-1],'.5f'))+')'))\n",
        "    \n",
        "    plt.title('Loss')\n",
        "    plt.xlabel('Epochs')\n",
        "    plt.ylabel('Loss')\n",
        "    plt.legend()\n",
        "    \n",
        "    ## Accuracy\n",
        "    plt.figure(2)\n",
        "    for l in acc_list:\n",
        "        plt.plot(epochs, history.history[l], 'b', label='Training accuracy (' + str(format(history.history[l][-1],'.5f'))+')')\n",
        "    for l in val_acc_list:    \n",
        "        plt.plot(epochs, history.history[l], 'g', label='Validation accuracy (' + str(format(history.history[l][-1],'.5f'))+')')\n",
        "\n",
        "    plt.title('Accuracy')\n",
        "    plt.xlabel('Epochs')\n",
        "    plt.ylabel('Accuracy')\n",
        "    plt.legend()\n",
        "    plt.show()"
      ],
      "execution_count": null,
      "outputs": []
    },
    {
      "cell_type": "code",
      "metadata": {
        "colab": {
          "base_uri": "https://localhost:8080/"
        },
        "id": "Vu3ZNDGsB7io",
        "outputId": "70c3cfdc-d1f9-4361-d487-5b20e50fe41c"
      },
      "source": [
        "plot_history(history1)"
      ],
      "execution_count": null,
      "outputs": [
        {
          "output_type": "display_data",
          "data": {
            "image/png": "[encoded data removed]",
            "text/plain": [
              "<Figure size 432x288 with 1 Axes>"
            ]
          },
          "metadata": {
            "needs_background": "light"
          }
        },
        {
          "output_type": "display_data",
          "data": {
            "image/png": "[encoded data removed]",
            "text/plain": [
              "<Figure size 432x288 with 1 Axes>"
            ]
          },
          "metadata": {
            "needs_background": "light"
          }
        }
      ]
    },
    {
      "cell_type": "markdown",
      "metadata": {
        "id": "XLN97KR6DUv7"
      },
      "source": [
        "#**#7.Model Evaluation**"
      ]
    },
    {
      "cell_type": "code",
      "metadata": {
        "colab": {
          "base_uri": "https://localhost:8080/"
        },
        "id": "1atMhadXl5Np",
        "outputId": "cb09159e-1607-47f4-e7bc-4ba484e676f1"
      },
      "source": [
        "#Step7 Evaluate Model\n",
        "test_loss, test_acc = model_1.evaluate(X_test,  y_test, verbose=2)\n",
        "print('\\nTest accuracy:', test_acc)"
      ],
      "execution_count": null,
      "outputs": [
        {
          "output_type": "stream",
          "text": [
            "625/625 - 2s - loss: 0.6019 - accuracy: 0.7101\n",
            "\n",
            "Test accuracy: 0.710099995136261\n"
          ],
          "name": "stdout"
        }
      ]
    },
    {
      "cell_type": "code",
      "metadata": {
        "id": "RxwheYZOSJMl",
        "colab": {
          "base_uri": "https://localhost:8080/"
        },
        "outputId": "8d863f7f-9865-4bc3-8cdb-d5a32f6a724c"
      },
      "source": [
        "# Confusion Matrix \n",
        "\n",
        "# Predict the values from the validation dataset\n",
        "Y_pred = model_1.predict(X_test)  \n",
        "\n",
        "# Convert predictions classes to one hot vectors \n",
        "Y_pred_classes = np.argmax(Y_pred, axis = 1) \n",
        "\n",
        "results = confusion_matrix(y_test, Y_pred_classes)\n",
        "print(results)"
      ],
      "execution_count": null,
      "outputs": [
        {
          "output_type": "stream",
          "text": [
            "[[10000     0]\n",
            " [10000     0]]\n"
          ],
          "name": "stdout"
        }
      ]
    },
    {
      "cell_type": "code",
      "metadata": {
        "id": "HA477C_66AFr",
        "colab": {
          "base_uri": "https://localhost:8080/"
        },
        "outputId": "9373bbe8-c78e-4ebd-eb41-a484581720df"
      },
      "source": [
        "from sklearn.metrics import classification_report, confusion_matrix\n",
        "class_names = ['Postive', 'Negative']\n",
        "print(classification_report(y_test, Y_pred_classes, target_names = class_names))"
      ],
      "execution_count": null,
      "outputs": [
        {
          "output_type": "stream",
          "text": [
            "              precision    recall  f1-score   support\n",
            "\n",
            "     Postive       0.50      1.00      0.67     10000\n",
            "    Negative       0.00      0.00      0.00     10000\n",
            "\n",
            "    accuracy                           0.50     20000\n",
            "   macro avg       0.25      0.50      0.33     20000\n",
            "weighted avg       0.25      0.50      0.33     20000\n",
            "\n"
          ],
          "name": "stdout"
        },
        {
          "output_type": "stream",
          "text": [
            "/usr/local/lib/python3.7/dist-packages/sklearn/metrics/_classification.py:1272: UndefinedMetricWarning: Precision and F-score are ill-defined and being set to 0.0 in labels with no predicted samples. Use `zero_division` parameter to control this behavior.\n",
            "  _warn_prf(average, modifier, msg_start, len(result))\n"
          ],
          "name": "stderr"
        }
      ]
    },
    {
      "cell_type": "code",
      "metadata": {
        "id": "32yxeYPi8U9P",
        "colab": {
          "base_uri": "https://localhost:8080/"
        },
        "outputId": "8d291450-ba19-44b3-da5c-8a7e1e278f8d"
      },
      "source": [
        "Y_pred_classes\n"
      ],
      "execution_count": null,
      "outputs": [
        {
          "output_type": "execute_result",
          "data": {
            "text/plain": [
              "array([0, 0, 0, ..., 0, 0, 0])"
            ]
          },
          "metadata": {},
          "execution_count": 100
        }
      ]
    },
    {
      "cell_type": "markdown",
      "metadata": {
        "id": "M6LtkdtN30gi"
      },
      "source": [
        "#**#8.Hyperparameter Tuning**"
      ]
    },
    {
      "cell_type": "markdown",
      "metadata": {
        "id": "HRZxWM7D4arI"
      },
      "source": [
        "**i)-Dropout: Change the position and value of dropout layer**"
      ]
    },
    {
      "cell_type": "code",
      "metadata": {
        "colab": {
          "base_uri": "https://localhost:8080/"
        },
        "id": "gKVTnRAO4jDb",
        "outputId": "3c0c317c-5c13-4bb2-c868-8fafec462485"
      },
      "source": [
        "hub_layer = hub.KerasLayer(\"https://tfhub.dev/google/nnlm-en-dim128/2\", output_shape=[128], \n",
        "                           input_shape=[], dtype=tf.string)\n",
        "model_2 = keras.Sequential()\n",
        "model_2.add(hub_layer)\n",
        "model_2.add(keras.layers.Dense(512, activation='relu', kernel_regularizer=keras.regularizers.l2(l=0.0001)))\n",
        "model_2.add(keras.layers.Dense(256, activation='relu', kernel_regularizer=keras.regularizers.l2(l=0.0001)))\n",
        "model_2.add(keras.layers.Dropout(0.9))\n",
        "model_2.add(keras.layers.Dense(1, activation='sigmoid'))\n",
        "\n",
        "model_2.summary()"
      ],
      "execution_count": null,
      "outputs": [
        {
          "output_type": "stream",
          "text": [
            "Model: \"sequential_4\"\n",
            "_________________________________________________________________\n",
            "Layer (type)                 Output Shape              Param #   \n",
            "=================================================================\n",
            "keras_layer_4 (KerasLayer)   (None, 128)               124642688 \n",
            "_________________________________________________________________\n",
            "dense_12 (Dense)             (None, 512)               66048     \n",
            "_________________________________________________________________\n",
            "dense_13 (Dense)             (None, 256)               131328    \n",
            "_________________________________________________________________\n",
            "dropout_4 (Dropout)          (None, 256)               0         \n",
            "_________________________________________________________________\n",
            "dense_14 (Dense)             (None, 1)                 257       \n",
            "=================================================================\n",
            "Total params: 124,840,321\n",
            "Trainable params: 197,633\n",
            "Non-trainable params: 124,642,688\n",
            "_________________________________________________________________\n"
          ],
          "name": "stdout"
        }
      ]
    },
    {
      "cell_type": "code",
      "metadata": {
        "id": "wAM5jmcK45Mf"
      },
      "source": [
        "opt = Adam(learning_rate =0.01)\n",
        "model_2.compile(optimizer = opt, loss ='binary_crossentropy', metrics=['accuracy'])\n"
      ],
      "execution_count": null,
      "outputs": []
    },
    {
      "cell_type": "code",
      "metadata": {
        "colab": {
          "base_uri": "https://localhost:8080/"
        },
        "id": "_HSaI8_Z5UGg",
        "outputId": "56260b8f-d5e1-4d28-c6f4-bda4b45dbfcf"
      },
      "source": [
        "no_of_epcohs = 15\n",
        "gradient_batch_size = 128\n",
        "\n",
        "history2 = model_2.fit(X_train, \n",
        "                   y_train,\n",
        "                   validation_split = 0.2,\n",
        "                   steps_per_epoch = 5,\n",
        "                   epochs=no_of_epcohs,\n",
        "                   batch_size=gradient_batch_size, verbose = 1)"
      ],
      "execution_count": null,
      "outputs": [
        {
          "output_type": "stream",
          "text": [
            "Epoch 1/15\n",
            "5/5 [==============================] - 1s 133ms/step - loss: 0.7601 - accuracy: 0.5344 - val_loss: 0.7123 - val_accuracy: 0.6056\n",
            "Epoch 2/15\n",
            "5/5 [==============================] - 0s 88ms/step - loss: 0.7560 - accuracy: 0.5547 - val_loss: 0.6790 - val_accuracy: 0.6750\n",
            "Epoch 3/15\n",
            "5/5 [==============================] - 1s 164ms/step - loss: 0.7112 - accuracy: 0.6156 - val_loss: 0.6664 - val_accuracy: 0.6758\n",
            "Epoch 4/15\n",
            "5/5 [==============================] - 0s 86ms/step - loss: 0.6734 - accuracy: 0.7063 - val_loss: 0.6510 - val_accuracy: 0.6931\n",
            "Epoch 5/15\n",
            "5/5 [==============================] - 1s 164ms/step - loss: 0.6392 - accuracy: 0.7109 - val_loss: 0.6410 - val_accuracy: 0.6987\n",
            "Epoch 6/15\n",
            "5/5 [==============================] - 1s 164ms/step - loss: 0.6574 - accuracy: 0.7125 - val_loss: 0.6405 - val_accuracy: 0.6991\n",
            "Epoch 7/15\n",
            "5/5 [==============================] - 0s 89ms/step - loss: 0.6247 - accuracy: 0.7250 - val_loss: 0.6610 - val_accuracy: 0.6756\n",
            "Epoch 8/15\n",
            "5/5 [==============================] - 1s 165ms/step - loss: 0.6814 - accuracy: 0.6953 - val_loss: 0.6262 - val_accuracy: 0.7063\n",
            "Epoch 9/15\n",
            "5/5 [==============================] - 1s 164ms/step - loss: 0.6510 - accuracy: 0.7000 - val_loss: 0.6357 - val_accuracy: 0.6893\n",
            "Epoch 10/15\n",
            "5/5 [==============================] - 0s 87ms/step - loss: 0.6506 - accuracy: 0.6891 - val_loss: 0.6192 - val_accuracy: 0.7037\n",
            "Epoch 11/15\n",
            "5/5 [==============================] - 0s 90ms/step - loss: 0.6359 - accuracy: 0.6969 - val_loss: 0.6121 - val_accuracy: 0.7094\n",
            "Epoch 12/15\n",
            "5/5 [==============================] - 0s 87ms/step - loss: 0.6261 - accuracy: 0.7391 - val_loss: 0.6144 - val_accuracy: 0.7042\n",
            "Epoch 13/15\n",
            "5/5 [==============================] - 0s 88ms/step - loss: 0.6349 - accuracy: 0.6906 - val_loss: 0.6200 - val_accuracy: 0.6940\n",
            "Epoch 14/15\n",
            "5/5 [==============================] - 0s 87ms/step - loss: 0.6362 - accuracy: 0.6875 - val_loss: 0.6110 - val_accuracy: 0.7017\n",
            "Epoch 15/15\n",
            "5/5 [==============================] - 0s 85ms/step - loss: 0.6424 - accuracy: 0.6938 - val_loss: 0.6028 - val_accuracy: 0.7092\n"
          ],
          "name": "stdout"
        }
      ]
    },
    {
      "cell_type": "code",
      "metadata": {
        "id": "0LvH7YUlD7tf",
        "colab": {
          "base_uri": "https://localhost:8080/"
        },
        "outputId": "e951668a-acc5-418d-f154-2f930abe76bb"
      },
      "source": [
        "plot_history(history2)"
      ],
      "execution_count": null,
      "outputs": [
        {
          "output_type": "display_data",
          "data": {
            "image/png": "[encoded data removed]",
            "text/plain": [
              "<Figure size 432x288 with 1 Axes>"
            ]
          },
          "metadata": {
            "needs_background": "light"
          }
        },
        {
          "output_type": "display_data",
          "data": {
            "image/png": "[encoded data removed]",
            "text/plain": [
              "<Figure size 432x288 with 1 Axes>"
            ]
          },
          "metadata": {
            "needs_background": "light"
          }
        }
      ]
    },
    {
      "cell_type": "code",
      "metadata": {
        "colab": {
          "base_uri": "https://localhost:8080/"
        },
        "id": "MdIVHjYw5f1B",
        "outputId": "4b8a844f-e3ed-4bef-9ffc-9c77c06e434f"
      },
      "source": [
        "# Model Evaluation\n",
        "test_loss, test_acc = model_2.evaluate(X_test,  y_test, verbose=2)\n",
        "print('\\nTest accuracy:', test_acc)\n"
      ],
      "execution_count": null,
      "outputs": [
        {
          "output_type": "stream",
          "text": [
            "625/625 - 2s - loss: 0.5940 - accuracy: 0.7186\n",
            "\n",
            "Test accuracy: 0.7185500264167786\n"
          ],
          "name": "stdout"
        }
      ]
    },
    {
      "cell_type": "markdown",
      "metadata": {
        "id": "Ah9lSdRf6CjC"
      },
      "source": [
        "**ii)- Batch Size: Change the value of batch size in model training**"
      ]
    },
    {
      "cell_type": "code",
      "metadata": {
        "colab": {
          "base_uri": "https://localhost:8080/"
        },
        "id": "2wYXDjES5o5j",
        "outputId": "6a1ba455-3ca4-4ced-f589-5c5fa5ed8aa0"
      },
      "source": [
        "hub_layer = hub.KerasLayer(\"https://tfhub.dev/google/nnlm-en-dim128/2\", output_shape=[128], \n",
        "                           input_shape=[], dtype=tf.string)\n",
        "model_3 = keras.Sequential()\n",
        "model_3.add(hub_layer)\n",
        "model_3.add(keras.layers.Dense(512, activation='relu', kernel_regularizer=keras.regularizers.l2(l=0.0001)))\n",
        "model_3.add(keras.layers.Dropout(0.5))\n",
        "model_3.add(keras.layers.Dense(256, activation='relu', kernel_regularizer=keras.regularizers.l2(l=0.0001)))\n",
        "model_3.add(keras.layers.Dense(1, activation='sigmoid'))\n",
        "\n",
        "model_3.summary()"
      ],
      "execution_count": null,
      "outputs": [
        {
          "output_type": "stream",
          "text": [
            "Model: \"sequential_5\"\n",
            "_________________________________________________________________\n",
            "Layer (type)                 Output Shape              Param #   \n",
            "=================================================================\n",
            "keras_layer_5 (KerasLayer)   (None, 128)               124642688 \n",
            "_________________________________________________________________\n",
            "dense_15 (Dense)             (None, 512)               66048     \n",
            "_________________________________________________________________\n",
            "dropout_5 (Dropout)          (None, 512)               0         \n",
            "_________________________________________________________________\n",
            "dense_16 (Dense)             (None, 256)               131328    \n",
            "_________________________________________________________________\n",
            "dense_17 (Dense)             (None, 1)                 257       \n",
            "=================================================================\n",
            "Total params: 124,840,321\n",
            "Trainable params: 197,633\n",
            "Non-trainable params: 124,642,688\n",
            "_________________________________________________________________\n"
          ],
          "name": "stdout"
        }
      ]
    },
    {
      "cell_type": "code",
      "metadata": {
        "colab": {
          "base_uri": "https://localhost:8080/"
        },
        "id": "vPsp62L86ZUM",
        "outputId": "0a8f9999-679e-4a4c-e1c6-d7dfc52ea276"
      },
      "source": [
        "opt = Adam(lr=0.01)\n",
        "model_3.compile(optimizer = opt, loss ='binary_crossentropy', metrics=['accuracy'])\n"
      ],
      "execution_count": null,
      "outputs": [
        {
          "output_type": "stream",
          "text": [
            "/usr/local/lib/python3.7/dist-packages/keras/optimizer_v2/optimizer_v2.py:356: UserWarning: The `lr` argument is deprecated, use `learning_rate` instead.\n",
            "  \"The `lr` argument is deprecated, use `learning_rate` instead.\")\n"
          ],
          "name": "stderr"
        }
      ]
    },
    {
      "cell_type": "code",
      "metadata": {
        "id": "0xeVkGUz6iRG",
        "colab": {
          "base_uri": "https://localhost:8080/"
        },
        "outputId": "be5df43a-ea5e-4222-a93c-4d43b805089a"
      },
      "source": [
        "no_of_epcohs = 15\n",
        "gradient_batch_size = 32\n",
        "\n",
        "history3 = model_3.fit(X_train, \n",
        "                   y_train,\n",
        "                   validation_split = 0.2,\n",
        "                   steps_per_epoch = 5,\n",
        "                   epochs=no_of_epcohs,\n",
        "                   batch_size=gradient_batch_size, verbose = 1)"
      ],
      "execution_count": null,
      "outputs": [
        {
          "output_type": "stream",
          "text": [
            "Epoch 1/15\n",
            "5/5 [==============================] - 2s 364ms/step - loss: 0.7666 - accuracy: 0.5312 - val_loss: 0.9562 - val_accuracy: 0.5146\n",
            "Epoch 2/15\n",
            "5/5 [==============================] - 1s 324ms/step - loss: 0.7876 - accuracy: 0.5562 - val_loss: 0.7144 - val_accuracy: 0.5564\n",
            "Epoch 3/15\n",
            "5/5 [==============================] - 1s 324ms/step - loss: 0.7060 - accuracy: 0.6375 - val_loss: 0.6791 - val_accuracy: 0.6689\n",
            "Epoch 4/15\n",
            "5/5 [==============================] - 1s 287ms/step - loss: 0.6359 - accuracy: 0.7000 - val_loss: 0.7464 - val_accuracy: 0.6399\n",
            "Epoch 5/15\n",
            "5/5 [==============================] - 1s 291ms/step - loss: 0.7249 - accuracy: 0.6250 - val_loss: 0.7201 - val_accuracy: 0.5966\n",
            "Epoch 6/15\n",
            "5/5 [==============================] - 1s 299ms/step - loss: 0.7423 - accuracy: 0.6187 - val_loss: 0.6904 - val_accuracy: 0.6556\n",
            "Epoch 7/15\n",
            "5/5 [==============================] - 1s 324ms/step - loss: 0.6765 - accuracy: 0.6812 - val_loss: 0.6739 - val_accuracy: 0.6766\n",
            "Epoch 8/15\n",
            "5/5 [==============================] - 1s 324ms/step - loss: 0.7040 - accuracy: 0.6625 - val_loss: 0.6606 - val_accuracy: 0.6769\n",
            "Epoch 9/15\n",
            "5/5 [==============================] - 1s 324ms/step - loss: 0.7058 - accuracy: 0.6062 - val_loss: 0.6533 - val_accuracy: 0.6830\n",
            "Epoch 10/15\n",
            "5/5 [==============================] - 1s 324ms/step - loss: 0.6560 - accuracy: 0.6500 - val_loss: 0.6439 - val_accuracy: 0.6868\n",
            "Epoch 11/15\n",
            "5/5 [==============================] - 1s 324ms/step - loss: 0.6113 - accuracy: 0.7125 - val_loss: 0.6399 - val_accuracy: 0.6899\n",
            "Epoch 12/15\n",
            "5/5 [==============================] - 1s 325ms/step - loss: 0.6163 - accuracy: 0.7063 - val_loss: 0.6362 - val_accuracy: 0.6964\n",
            "Epoch 13/15\n",
            "5/5 [==============================] - 1s 299ms/step - loss: 0.6595 - accuracy: 0.6625 - val_loss: 0.6344 - val_accuracy: 0.6883\n",
            "Epoch 14/15\n",
            "5/5 [==============================] - 1s 296ms/step - loss: 0.6832 - accuracy: 0.6000 - val_loss: 0.6495 - val_accuracy: 0.6974\n",
            "Epoch 15/15\n",
            "5/5 [==============================] - 1s 324ms/step - loss: 0.5963 - accuracy: 0.7437 - val_loss: 0.6493 - val_accuracy: 0.6918\n"
          ],
          "name": "stdout"
        }
      ]
    },
    {
      "cell_type": "code",
      "metadata": {
        "id": "rGc3nPmzEYW9",
        "colab": {
          "base_uri": "https://localhost:8080/"
        },
        "outputId": "3a92652d-3c08-4d2b-9b96-e37f80258926"
      },
      "source": [
        "plot_history(history3)"
      ],
      "execution_count": null,
      "outputs": [
        {
          "output_type": "display_data",
          "data": {
            "image/png": "[encoded data removed]",
            "text/plain": [
              "<Figure size 432x288 with 1 Axes>"
            ]
          },
          "metadata": {
            "needs_background": "light"
          }
        },
        {
          "output_type": "display_data",
          "data": {
            "image/png": "[encoded data removed]",
            "text/plain": [
              "<Figure size 432x288 with 1 Axes>"
            ]
          },
          "metadata": {
            "needs_background": "light"
          }
        }
      ]
    },
    {
      "cell_type": "code",
      "metadata": {
        "id": "NR967P687OsI",
        "colab": {
          "base_uri": "https://localhost:8080/"
        },
        "outputId": "a7558b0a-cc00-4615-9dfb-03540789dac8"
      },
      "source": [
        "# Model Evaluation\n",
        "test_loss, test_acc = model_3.evaluate(X_test,  y_test, verbose=2)\n",
        "print('\\nTest accuracy:', test_acc)\n"
      ],
      "execution_count": null,
      "outputs": [
        {
          "output_type": "stream",
          "text": [
            "625/625 - 1s - loss: 0.6442 - accuracy: 0.7012\n",
            "\n",
            "Test accuracy: 0.7011500000953674\n"
          ],
          "name": "stdout"
        }
      ]
    },
    {
      "cell_type": "markdown",
      "metadata": {
        "id": "eAZLR4Sm71Dc"
      },
      "source": [
        "**# Comparision between models and reason for change is accuracy**"
      ]
    },
    {
      "cell_type": "markdown",
      "metadata": {
        "id": "yi3DXVekJavB"
      },
      "source": [
        "<table>\n",
        "<body>\n",
        "\n",
        "<tr><td><b>Model</td><td><b>Dropouts</td><td><b>Batch Size</td><td><b> Training Accuracy</td>\n",
        " <td><b>Testing Accuracy</td><td><b>Observation</td>\n",
        "</tr>\n",
        "\n",
        "<tr><td>Model_1</td><td align=\"center\"><b>0.5</td><td align=\"center\"><b>128</td><td align=\"center\"><b>75.78%</td>\n",
        " <td align=\"center\"><b>72.17%</td><td>\n",
        "  <h7>This is the base model.<br>Training Accuracy and testing Accuracy is almost same. No overfitting or underfitting issues with the model. \n",
        " </td>\n",
        "</tr>\n",
        "\n",
        "<tr><td>Model_2</td><td align=\"center\"><b>0.9</td><td align=\"center\"><b>128</td><td align=\"center\"><b>74.69% </td>\n",
        " <td align=\"center\"><b>71.10%</td><td><P1>\n",
        "  <h7>Traning Accuracy and the Testing Accuracy is almost same. No overfiting or underfiting issues with the model. <br>Accuracy is getting less with high Dropouts parameter compare to the base model.\n",
        "</td>\n",
        "</tr>\n",
        "<tr><td>Model_3</td><td align=\"center\"><b>0.5</td><td align=\"center\"><b>32</td><td align=\"center\"><b>69.38%</td>\n",
        " <td align=\"center\"><b>70.61%</td><td>\n",
        " <h7>\n",
        " Execution time is taking more time with less batch size compare to the base model with same Epoch. \n",
        "<br>Training accuracy is slightly more compare to the base model.<br> No overfitting or underfitting issues.\n",
        "</h2>\n",
        "</td>\n",
        "</tr>\n",
        "</body>\n",
        "</table>"
      ]
    },
    {
      "cell_type": "code",
      "metadata": {
        "id": "yR7u_h22C2bZ"
      },
      "source": [
        "# hub_layer3 = hub.KerasLayer(\" http://nlp.stanford.edu/data/glove.twitter.100d.27B\", output_shape=[100], \n",
        "#                            input_shape=[], dtype=tf.string)\n",
        "# model_3 = keras.Sequential()\n",
        "# model_3.add(hub_layer)\n",
        "# model_3.add(keras.layers.Dense(512, activation='relu', kernel_regularizer=keras.regularizers.l2(l=0.0001)))\n",
        "# model_3.add(keras.layers.Dense(256, activation='relu', kernel_regularizer=keras.regularizers.l2(l=0.0001)))\n",
        "# model_3.add(keras.layers.Dropout(0.9))\n",
        "# model_3.add(keras.layers.Dense(1, activation='sigmoid'))\n",
        "\n",
        "# model_2.summary()"
      ],
      "execution_count": null,
      "outputs": []
    }
  ]
}